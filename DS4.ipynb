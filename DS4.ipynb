{
  "nbformat": 4,
  "nbformat_minor": 0,
  "metadata": {
    "colab": {
      "name": "DS4.ipynb",
      "provenance": [],
      "collapsed_sections": []
    },
    "kernelspec": {
      "name": "python3",
      "display_name": "Python 3"
    }
  },
  "cells": [
    {
      "cell_type": "code",
      "metadata": {
        "id": "fdb_GGQ6SByC",
        "colab_type": "code",
        "colab": {}
      },
      "source": [
        "import pandas as pd\n",
        "import numpy as np\n",
        "import matplotlib.pyplot as plt\n",
        "import seaborn as sns"
      ],
      "execution_count": null,
      "outputs": []
    },
    {
      "cell_type": "code",
      "metadata": {
        "id": "ngsfv5CDX6BD",
        "colab_type": "code",
        "colab": {}
      },
      "source": [
        "concrete_data =  pd.read_csv(\"https://raw.githubusercontent.com/dphi-official/Datasets/master/concrete_data/training_set_label.csv\" )"
      ],
      "execution_count": null,
      "outputs": []
    },
    {
      "cell_type": "code",
      "metadata": {
        "id": "sj05JTDpX911",
        "colab_type": "code",
        "colab": {
          "base_uri": "https://localhost:8080/",
          "height": 255
        },
        "outputId": "882c9558-047a-4251-96bd-49f8078b5ae7"
      },
      "source": [
        "concrete_data.head()"
      ],
      "execution_count": null,
      "outputs": [
        {
          "output_type": "execute_result",
          "data": {
            "text/html": [
              "<div>\n",
              "<style scoped>\n",
              "    .dataframe tbody tr th:only-of-type {\n",
              "        vertical-align: middle;\n",
              "    }\n",
              "\n",
              "    .dataframe tbody tr th {\n",
              "        vertical-align: top;\n",
              "    }\n",
              "\n",
              "    .dataframe thead th {\n",
              "        text-align: right;\n",
              "    }\n",
              "</style>\n",
              "<table border=\"1\" class=\"dataframe\">\n",
              "  <thead>\n",
              "    <tr style=\"text-align: right;\">\n",
              "      <th></th>\n",
              "      <th>Cement (component 1)(kg in a m^3 mixture)</th>\n",
              "      <th>Blast Furnace Slag (component 2)(kg in a m^3 mixture)</th>\n",
              "      <th>Fly Ash (component 3)(kg in a m^3 mixture)</th>\n",
              "      <th>Water  (component 4)(kg in a m^3 mixture)</th>\n",
              "      <th>Superplasticizer (component 5)(kg in a m^3 mixture)</th>\n",
              "      <th>Coarse Aggregate  (component 6)(kg in a m^3 mixture)</th>\n",
              "      <th>Fine Aggregate (component 7)(kg in a m^3 mixture)</th>\n",
              "      <th>Age (day)</th>\n",
              "      <th>Concrete compressive strength(MPa, megapascals)</th>\n",
              "    </tr>\n",
              "  </thead>\n",
              "  <tbody>\n",
              "    <tr>\n",
              "      <th>0</th>\n",
              "      <td>298.20</td>\n",
              "      <td>0.0</td>\n",
              "      <td>107.00</td>\n",
              "      <td>209.70</td>\n",
              "      <td>11.10</td>\n",
              "      <td>879.6</td>\n",
              "      <td>744.20</td>\n",
              "      <td>28</td>\n",
              "      <td>31.875165</td>\n",
              "    </tr>\n",
              "    <tr>\n",
              "      <th>1</th>\n",
              "      <td>397.00</td>\n",
              "      <td>0.0</td>\n",
              "      <td>0.00</td>\n",
              "      <td>186.00</td>\n",
              "      <td>0.00</td>\n",
              "      <td>1040.0</td>\n",
              "      <td>734.00</td>\n",
              "      <td>28</td>\n",
              "      <td>36.935229</td>\n",
              "    </tr>\n",
              "    <tr>\n",
              "      <th>2</th>\n",
              "      <td>251.37</td>\n",
              "      <td>0.0</td>\n",
              "      <td>118.27</td>\n",
              "      <td>188.45</td>\n",
              "      <td>6.35</td>\n",
              "      <td>1028.4</td>\n",
              "      <td>757.73</td>\n",
              "      <td>56</td>\n",
              "      <td>36.638755</td>\n",
              "    </tr>\n",
              "    <tr>\n",
              "      <th>3</th>\n",
              "      <td>304.00</td>\n",
              "      <td>140.0</td>\n",
              "      <td>0.00</td>\n",
              "      <td>214.00</td>\n",
              "      <td>6.00</td>\n",
              "      <td>895.0</td>\n",
              "      <td>722.00</td>\n",
              "      <td>28</td>\n",
              "      <td>33.418902</td>\n",
              "    </tr>\n",
              "    <tr>\n",
              "      <th>4</th>\n",
              "      <td>297.00</td>\n",
              "      <td>0.0</td>\n",
              "      <td>0.00</td>\n",
              "      <td>186.00</td>\n",
              "      <td>0.00</td>\n",
              "      <td>1040.0</td>\n",
              "      <td>734.00</td>\n",
              "      <td>7</td>\n",
              "      <td>30.957472</td>\n",
              "    </tr>\n",
              "  </tbody>\n",
              "</table>\n",
              "</div>"
            ],
            "text/plain": [
              "   Cement (component 1)(kg in a m^3 mixture)  ...  Concrete compressive strength(MPa, megapascals) \n",
              "0                                     298.20  ...                                         31.875165\n",
              "1                                     397.00  ...                                         36.935229\n",
              "2                                     251.37  ...                                         36.638755\n",
              "3                                     304.00  ...                                         33.418902\n",
              "4                                     297.00  ...                                         30.957472\n",
              "\n",
              "[5 rows x 9 columns]"
            ]
          },
          "metadata": {
            "tags": []
          },
          "execution_count": 157
        }
      ]
    },
    {
      "cell_type": "code",
      "metadata": {
        "id": "do98TJcdYDL8",
        "colab_type": "code",
        "colab": {
          "base_uri": "https://localhost:8080/",
          "height": 289
        },
        "outputId": "f7c956d6-acec-4905-ccdc-d13aabc1ee94"
      },
      "source": [
        "concrete_data.info()"
      ],
      "execution_count": null,
      "outputs": [
        {
          "output_type": "stream",
          "text": [
            "<class 'pandas.core.frame.DataFrame'>\n",
            "RangeIndex: 772 entries, 0 to 771\n",
            "Data columns (total 9 columns):\n",
            " #   Column                                                 Non-Null Count  Dtype  \n",
            "---  ------                                                 --------------  -----  \n",
            " 0   Cement (component 1)(kg in a m^3 mixture)              772 non-null    float64\n",
            " 1   Blast Furnace Slag (component 2)(kg in a m^3 mixture)  772 non-null    float64\n",
            " 2   Fly Ash (component 3)(kg in a m^3 mixture)             772 non-null    float64\n",
            " 3   Water  (component 4)(kg in a m^3 mixture)              772 non-null    float64\n",
            " 4   Superplasticizer (component 5)(kg in a m^3 mixture)    772 non-null    float64\n",
            " 5   Coarse Aggregate  (component 6)(kg in a m^3 mixture)   772 non-null    float64\n",
            " 6   Fine Aggregate (component 7)(kg in a m^3 mixture)      772 non-null    float64\n",
            " 7   Age (day)                                              772 non-null    int64  \n",
            " 8   Concrete compressive strength(MPa, megapascals)        772 non-null    float64\n",
            "dtypes: float64(8), int64(1)\n",
            "memory usage: 54.4 KB\n"
          ],
          "name": "stdout"
        }
      ]
    },
    {
      "cell_type": "code",
      "metadata": {
        "id": "4ezV1a27YXG-",
        "colab_type": "code",
        "colab": {
          "base_uri": "https://localhost:8080/",
          "height": 348
        },
        "outputId": "bd53da42-9a57-457b-f53d-dd893e274c47"
      },
      "source": [
        "concrete_data.describe()"
      ],
      "execution_count": null,
      "outputs": [
        {
          "output_type": "execute_result",
          "data": {
            "text/html": [
              "<div>\n",
              "<style scoped>\n",
              "    .dataframe tbody tr th:only-of-type {\n",
              "        vertical-align: middle;\n",
              "    }\n",
              "\n",
              "    .dataframe tbody tr th {\n",
              "        vertical-align: top;\n",
              "    }\n",
              "\n",
              "    .dataframe thead th {\n",
              "        text-align: right;\n",
              "    }\n",
              "</style>\n",
              "<table border=\"1\" class=\"dataframe\">\n",
              "  <thead>\n",
              "    <tr style=\"text-align: right;\">\n",
              "      <th></th>\n",
              "      <th>Cement (component 1)(kg in a m^3 mixture)</th>\n",
              "      <th>Blast Furnace Slag (component 2)(kg in a m^3 mixture)</th>\n",
              "      <th>Fly Ash (component 3)(kg in a m^3 mixture)</th>\n",
              "      <th>Water  (component 4)(kg in a m^3 mixture)</th>\n",
              "      <th>Superplasticizer (component 5)(kg in a m^3 mixture)</th>\n",
              "      <th>Coarse Aggregate  (component 6)(kg in a m^3 mixture)</th>\n",
              "      <th>Fine Aggregate (component 7)(kg in a m^3 mixture)</th>\n",
              "      <th>Age (day)</th>\n",
              "      <th>Concrete compressive strength(MPa, megapascals)</th>\n",
              "    </tr>\n",
              "  </thead>\n",
              "  <tbody>\n",
              "    <tr>\n",
              "      <th>count</th>\n",
              "      <td>772.000000</td>\n",
              "      <td>772.000000</td>\n",
              "      <td>772.000000</td>\n",
              "      <td>772.000000</td>\n",
              "      <td>772.000000</td>\n",
              "      <td>772.000000</td>\n",
              "      <td>772.000000</td>\n",
              "      <td>772.000000</td>\n",
              "      <td>772.000000</td>\n",
              "    </tr>\n",
              "    <tr>\n",
              "      <th>mean</th>\n",
              "      <td>280.722565</td>\n",
              "      <td>76.496140</td>\n",
              "      <td>52.701347</td>\n",
              "      <td>182.361593</td>\n",
              "      <td>6.000848</td>\n",
              "      <td>971.558782</td>\n",
              "      <td>771.618355</td>\n",
              "      <td>44.993523</td>\n",
              "      <td>35.724196</td>\n",
              "    </tr>\n",
              "    <tr>\n",
              "      <th>std</th>\n",
              "      <td>104.711803</td>\n",
              "      <td>87.477423</td>\n",
              "      <td>63.596763</td>\n",
              "      <td>20.913641</td>\n",
              "      <td>5.844002</td>\n",
              "      <td>77.078828</td>\n",
              "      <td>79.785875</td>\n",
              "      <td>60.442735</td>\n",
              "      <td>16.797389</td>\n",
              "    </tr>\n",
              "    <tr>\n",
              "      <th>min</th>\n",
              "      <td>102.000000</td>\n",
              "      <td>0.000000</td>\n",
              "      <td>0.000000</td>\n",
              "      <td>121.750000</td>\n",
              "      <td>0.000000</td>\n",
              "      <td>801.000000</td>\n",
              "      <td>594.000000</td>\n",
              "      <td>1.000000</td>\n",
              "      <td>2.331808</td>\n",
              "    </tr>\n",
              "    <tr>\n",
              "      <th>25%</th>\n",
              "      <td>190.340000</td>\n",
              "      <td>0.000000</td>\n",
              "      <td>0.000000</td>\n",
              "      <td>166.677500</td>\n",
              "      <td>0.000000</td>\n",
              "      <td>932.000000</td>\n",
              "      <td>724.300000</td>\n",
              "      <td>12.250000</td>\n",
              "      <td>23.677591</td>\n",
              "    </tr>\n",
              "    <tr>\n",
              "      <th>50%</th>\n",
              "      <td>275.000000</td>\n",
              "      <td>24.000000</td>\n",
              "      <td>0.000000</td>\n",
              "      <td>185.700000</td>\n",
              "      <td>6.050000</td>\n",
              "      <td>968.000000</td>\n",
              "      <td>777.800000</td>\n",
              "      <td>28.000000</td>\n",
              "      <td>33.870853</td>\n",
              "    </tr>\n",
              "    <tr>\n",
              "      <th>75%</th>\n",
              "      <td>350.000000</td>\n",
              "      <td>144.775000</td>\n",
              "      <td>118.187500</td>\n",
              "      <td>193.000000</td>\n",
              "      <td>10.025000</td>\n",
              "      <td>1028.100000</td>\n",
              "      <td>821.000000</td>\n",
              "      <td>56.000000</td>\n",
              "      <td>46.232813</td>\n",
              "    </tr>\n",
              "    <tr>\n",
              "      <th>max</th>\n",
              "      <td>540.000000</td>\n",
              "      <td>359.400000</td>\n",
              "      <td>200.100000</td>\n",
              "      <td>237.000000</td>\n",
              "      <td>32.200000</td>\n",
              "      <td>1145.000000</td>\n",
              "      <td>992.600000</td>\n",
              "      <td>365.000000</td>\n",
              "      <td>82.599225</td>\n",
              "    </tr>\n",
              "  </tbody>\n",
              "</table>\n",
              "</div>"
            ],
            "text/plain": [
              "       Cement (component 1)(kg in a m^3 mixture)  ...  Concrete compressive strength(MPa, megapascals) \n",
              "count                                 772.000000  ...                                        772.000000\n",
              "mean                                  280.722565  ...                                         35.724196\n",
              "std                                   104.711803  ...                                         16.797389\n",
              "min                                   102.000000  ...                                          2.331808\n",
              "25%                                   190.340000  ...                                         23.677591\n",
              "50%                                   275.000000  ...                                         33.870853\n",
              "75%                                   350.000000  ...                                         46.232813\n",
              "max                                   540.000000  ...                                         82.599225\n",
              "\n",
              "[8 rows x 9 columns]"
            ]
          },
          "metadata": {
            "tags": []
          },
          "execution_count": 159
        }
      ]
    },
    {
      "cell_type": "code",
      "metadata": {
        "id": "oygM94LrcjoZ",
        "colab_type": "code",
        "colab": {
          "base_uri": "https://localhost:8080/",
          "height": 865
        },
        "outputId": "35440b47-497b-4972-b2dd-a41b5c69a09d"
      },
      "source": [
        "plt.figure(figsize = (15, 10))\n",
        "sns.heatmap(concrete_data.corr(), annot = True)\n",
        "plt.show()"
      ],
      "execution_count": null,
      "outputs": [
        {
          "output_type": "display_data",
          "data": {
            "image/png": "[encoded data removed]",
            "text/plain": [
              "<Figure size 1080x720 with 2 Axes>"
            ]
          },
          "metadata": {
            "tags": [],
            "needs_background": "light"
          }
        }
      ]
    },
    {
      "cell_type": "code",
      "metadata": {
        "id": "F2XB1nmKoC8P",
        "colab_type": "code",
        "colab": {}
      },
      "source": [
        "features = concrete_data.columns.tolist()\n",
        "target_name = features.pop()"
      ],
      "execution_count": null,
      "outputs": []
    },
    {
      "cell_type": "code",
      "metadata": {
        "id": "BOea_x57ojoa",
        "colab_type": "code",
        "colab": {}
      },
      "source": [
        "X = concrete_data[features]\n",
        "y = concrete_data[target_name]"
      ],
      "execution_count": null,
      "outputs": []
    },
    {
      "cell_type": "code",
      "metadata": {
        "id": "lNikshTjpXeK",
        "colab_type": "code",
        "colab": {
          "base_uri": "https://localhost:8080/",
          "height": 1000
        },
        "outputId": "1b7e1fb1-ffec-40dd-f12e-6c2569c71e9e"
      },
      "source": [
        "for feature in features:\n",
        "  print(feature)\n",
        "  plt.scatter(X[feature],y)\n",
        "  plt.show()"
      ],
      "execution_count": null,
      "outputs": [
        {
          "output_type": "stream",
          "text": [
            "Cement (component 1)(kg in a m^3 mixture)\n"
          ],
          "name": "stdout"
        },
        {
          "output_type": "display_data",
          "data": {
            "image/png": "[encoded data removed]",
            "text/plain": [
              "<Figure size 432x288 with 1 Axes>"
            ]
          },
          "metadata": {
            "tags": [],
            "needs_background": "light"
          }
        },
        {
          "output_type": "stream",
          "text": [
            "Blast Furnace Slag (component 2)(kg in a m^3 mixture)\n"
          ],
          "name": "stdout"
        },
        {
          "output_type": "display_data",
          "data": {
            "image/png": "[encoded data removed]",
            "text/plain": [
              "<Figure size 432x288 with 1 Axes>"
            ]
          },
          "metadata": {
            "tags": [],
            "needs_background": "light"
          }
        },
        {
          "output_type": "stream",
          "text": [
            "Fly Ash (component 3)(kg in a m^3 mixture)\n"
          ],
          "name": "stdout"
        },
        {
          "output_type": "display_data",
          "data": {
            "image/png": "[encoded data removed]",
            "text/plain": [
              "<Figure size 432x288 with 1 Axes>"
            ]
          },
          "metadata": {
            "tags": [],
            "needs_background": "light"
          }
        },
        {
          "output_type": "stream",
          "text": [
            "Water  (component 4)(kg in a m^3 mixture)\n"
          ],
          "name": "stdout"
        },
        {
          "output_type": "display_data",
          "data": {
            "image/png": "[encoded data removed]",
            "text/plain": [
              "<Figure size 432x288 with 1 Axes>"
            ]
          },
          "metadata": {
            "tags": [],
            "needs_background": "light"
          }
        },
        {
          "output_type": "stream",
          "text": [
            "Superplasticizer (component 5)(kg in a m^3 mixture)\n"
          ],
          "name": "stdout"
        },
        {
          "output_type": "display_data",
          "data": {
            "image/png": "[encoded data removed]",
            "text/plain": [
              "<Figure size 432x288 with 1 Axes>"
            ]
          },
          "metadata": {
            "tags": [],
            "needs_background": "light"
          }
        },
        {
          "output_type": "stream",
          "text": [
            "Coarse Aggregate  (component 6)(kg in a m^3 mixture)\n"
          ],
          "name": "stdout"
        },
        {
          "output_type": "display_data",
          "data": {
            "image/png": "[encoded data removed]",
            "text/plain": [
              "<Figure size 432x288 with 1 Axes>"
            ]
          },
          "metadata": {
            "tags": [],
            "needs_background": "light"
          }
        },
        {
          "output_type": "stream",
          "text": [
            "Fine Aggregate (component 7)(kg in a m^3 mixture)\n"
          ],
          "name": "stdout"
        },
        {
          "output_type": "display_data",
          "data": {
            "image/png": "[encoded data removed]",
            "text/plain": [
              "<Figure size 432x288 with 1 Axes>"
            ]
          },
          "metadata": {
            "tags": [],
            "needs_background": "light"
          }
        },
        {
          "output_type": "stream",
          "text": [
            "Age (day)\n"
          ],
          "name": "stdout"
        },
        {
          "output_type": "display_data",
          "data": {
            "image/png": "[encoded data removed]",
            "text/plain": [
              "<Figure size 432x288 with 1 Axes>"
            ]
          },
          "metadata": {
            "tags": [],
            "needs_background": "light"
          }
        }
      ]
    },
    {
      "cell_type": "markdown",
      "metadata": {
        "id": "EP3fo51zwOIi",
        "colab_type": "text"
      },
      "source": [
        "Split data"
      ]
    },
    {
      "cell_type": "code",
      "metadata": {
        "id": "jmPQGblXwOdL",
        "colab_type": "code",
        "colab": {}
      },
      "source": [
        "from sklearn.model_selection import train_test_split\n",
        "X_train, X_test, y_train, y_test = train_test_split(X, y, test_size=0.25, random_state=42)"
      ],
      "execution_count": null,
      "outputs": []
    },
    {
      "cell_type": "markdown",
      "metadata": {
        "id": "7S3ZJMhqxXf7",
        "colab_type": "text"
      },
      "source": [
        "Estandarizando"
      ]
    },
    {
      "cell_type": "code",
      "metadata": {
        "id": "CiaRRZoixV0P",
        "colab_type": "code",
        "colab": {}
      },
      "source": [
        "from sklearn.preprocessing import StandardScaler\n",
        "scaler = StandardScaler()\n",
        "X_train_standarized = scaler.fit_transform(X_train)\n",
        "X_train = pd.DataFrame(X_train_standarized, columns=features)\n",
        "\n",
        "X_test_standarized = scaler.transform(X_test)\n",
        "X_test = pd.DataFrame(X_test_standarized, columns=features)"
      ],
      "execution_count": null,
      "outputs": []
    },
    {
      "cell_type": "markdown",
      "metadata": {
        "id": "2bBinCD7vaJ5",
        "colab_type": "text"
      },
      "source": [
        "Linear Regrression"
      ]
    },
    {
      "cell_type": "code",
      "metadata": {
        "id": "ST0fXYvGqCws",
        "colab_type": "code",
        "colab": {}
      },
      "source": [
        "from sklearn.linear_model import LinearRegression"
      ],
      "execution_count": null,
      "outputs": []
    },
    {
      "cell_type": "code",
      "metadata": {
        "id": "UcKOyPtnv0vQ",
        "colab_type": "code",
        "colab": {
          "base_uri": "https://localhost:8080/",
          "height": 34
        },
        "outputId": "ab54e485-9086-4632-d1e2-bad5c8af3c1b"
      },
      "source": [
        "lr_model = LinearRegression()\n",
        "lr_model.fit(X_train, y_train)"
      ],
      "execution_count": null,
      "outputs": [
        {
          "output_type": "execute_result",
          "data": {
            "text/plain": [
              "LinearRegression(copy_X=True, fit_intercept=True, n_jobs=None, normalize=False)"
            ]
          },
          "metadata": {
            "tags": []
          },
          "execution_count": 167
        }
      ]
    },
    {
      "cell_type": "code",
      "metadata": {
        "id": "ZOsMeqr2wgx7",
        "colab_type": "code",
        "colab": {
          "base_uri": "https://localhost:8080/",
          "height": 68
        },
        "outputId": "14193329-87e1-43a4-daef-e8c4c06b1927"
      },
      "source": [
        "from sklearn.metrics import mean_squared_error\n",
        "lr_predict = lr_model.predict(X_test)\n",
        "print(\"====================\")\n",
        "print(\"MSE TEST: %f\"%(mean_squared_error(y_test, lr_predict, squared = False)))\n",
        "print(\"====================\")\n"
      ],
      "execution_count": null,
      "outputs": [
        {
          "output_type": "stream",
          "text": [
            "====================\n",
            "MSE TEST: 10.626448\n",
            "====================\n"
          ],
          "name": "stdout"
        }
      ]
    },
    {
      "cell_type": "code",
      "metadata": {
        "id": "nxFxVaiixyvJ",
        "colab_type": "code",
        "colab": {
          "base_uri": "https://localhost:8080/",
          "height": 68
        },
        "outputId": "322a042a-ca8d-4f14-aa4b-42d54b5c194d"
      },
      "source": [
        "print(\"====================\")\n",
        "print(\"MSE TRAIN: %f\"%(mean_squared_error(y_train, lr_model.predict(X_train), squared = False)))\n",
        "print(\"====================\")"
      ],
      "execution_count": null,
      "outputs": [
        {
          "output_type": "stream",
          "text": [
            "====================\n",
            "MSE TRAIN: 10.303389\n",
            "====================\n"
          ],
          "name": "stdout"
        }
      ]
    },
    {
      "cell_type": "markdown",
      "metadata": {
        "id": "VLHqW8B4yllE",
        "colab_type": "text"
      },
      "source": [
        "Random Forest Regressor"
      ]
    },
    {
      "cell_type": "code",
      "metadata": {
        "id": "xq7rQh5LyVbf",
        "colab_type": "code",
        "colab": {
          "base_uri": "https://localhost:8080/",
          "height": 136
        },
        "outputId": "c2e90781-9d62-46c9-ba9c-74a2de0964ef"
      },
      "source": [
        "from sklearn.ensemble import RandomForestRegressor\n",
        "rf_model = RandomForestRegressor()\n",
        "rf_model.fit(X_train,y_train)\n",
        "\n"
      ],
      "execution_count": null,
      "outputs": [
        {
          "output_type": "execute_result",
          "data": {
            "text/plain": [
              "RandomForestRegressor(bootstrap=True, ccp_alpha=0.0, criterion='mse',\n",
              "                      max_depth=None, max_features='auto', max_leaf_nodes=None,\n",
              "                      max_samples=None, min_impurity_decrease=0.0,\n",
              "                      min_impurity_split=None, min_samples_leaf=1,\n",
              "                      min_samples_split=2, min_weight_fraction_leaf=0.0,\n",
              "                      n_estimators=100, n_jobs=None, oob_score=False,\n",
              "                      random_state=None, verbose=0, warm_start=False)"
            ]
          },
          "metadata": {
            "tags": []
          },
          "execution_count": 170
        }
      ]
    },
    {
      "cell_type": "code",
      "metadata": {
        "id": "d8fUba2UzFKP",
        "colab_type": "code",
        "colab": {
          "base_uri": "https://localhost:8080/",
          "height": 68
        },
        "outputId": "3c513113-8fe2-4e50-a5ad-768df17deee1"
      },
      "source": [
        "rf_predict = rf_model.predict(X_test)\n",
        "print(\"====================\")\n",
        "print(\"RMSE TEST: %f\"%(mean_squared_error(y_test, rf_predict, squared = False)))\n",
        "print(\"====================\")\n"
      ],
      "execution_count": null,
      "outputs": [
        {
          "output_type": "stream",
          "text": [
            "====================\n",
            "RMSE TEST: 5.367715\n",
            "====================\n"
          ],
          "name": "stdout"
        }
      ]
    },
    {
      "cell_type": "code",
      "metadata": {
        "id": "x-Nol-2_zPos",
        "colab_type": "code",
        "colab": {
          "base_uri": "https://localhost:8080/",
          "height": 68
        },
        "outputId": "20ccd45c-fe6c-41b9-ed12-d5335cec2bc4"
      },
      "source": [
        "print(\"====================\")\n",
        "print(\"RMSE TRAIN: %f\"%(mean_squared_error(y_train, rf_model.predict(X_train), squared = False)))\n",
        "print(\"====================\")"
      ],
      "execution_count": null,
      "outputs": [
        {
          "output_type": "stream",
          "text": [
            "====================\n",
            "RMSE TRAIN: 2.188501\n",
            "====================\n"
          ],
          "name": "stdout"
        }
      ]
    },
    {
      "cell_type": "code",
      "metadata": {
        "id": "DZWxDpS-E-3t",
        "colab_type": "code",
        "colab": {
          "base_uri": "https://localhost:8080/",
          "height": 170
        },
        "outputId": "96b99268-a617-4388-f6e1-ce6ae555c37f"
      },
      "source": [
        "important_features = pd.Series(data=rf_model.feature_importances_,index=features)\n",
        "important_features.sort_values(ascending=False,inplace=True)\n",
        "important_features"
      ],
      "execution_count": null,
      "outputs": [
        {
          "output_type": "execute_result",
          "data": {
            "text/plain": [
              "Age (day)                                                0.328898\n",
              "Cement (component 1)(kg in a m^3 mixture)                0.282536\n",
              "Superplasticizer (component 5)(kg in a m^3 mixture)      0.122452\n",
              "Water  (component 4)(kg in a m^3 mixture)                0.096953\n",
              "Blast Furnace Slag (component 2)(kg in a m^3 mixture)    0.083240\n",
              "Fine Aggregate (component 7)(kg in a m^3 mixture)        0.041733\n",
              "Coarse Aggregate  (component 6)(kg in a m^3 mixture)     0.029008\n",
              "Fly Ash (component 3)(kg in a m^3 mixture)               0.015181\n",
              "dtype: float64"
            ]
          },
          "metadata": {
            "tags": []
          },
          "execution_count": 173
        }
      ]
    },
    {
      "cell_type": "markdown",
      "metadata": {
        "id": "aSQaW2SyzcZW",
        "colab_type": "text"
      },
      "source": [
        "Por hacer:\n",
        "- Ver la importancia de las variables\n",
        "- hyperparameter tuning\n",
        "- xgboost\n",
        "- etc"
      ]
    },
    {
      "cell_type": "markdown",
      "metadata": {
        "id": "xnPBaDh4E3MZ",
        "colab_type": "text"
      },
      "source": [
        "Grid Search"
      ]
    },
    {
      "cell_type": "code",
      "metadata": {
        "id": "rxFl4tVjzTZW",
        "colab_type": "code",
        "colab": {}
      },
      "source": [
        "from sklearn.model_selection import GridSearchCV\n",
        "\n",
        "params = {'n_estimators' : (100,300,500,700,1000,1500), \n",
        "         'max_depth'    : (3,6,10,15,20)\n",
        "         }\n",
        "rf_grids = GridSearchCV(RandomForestRegressor(), params, scoring = 'neg_root_mean_squared_error')"
      ],
      "execution_count": null,
      "outputs": []
    },
    {
      "cell_type": "code",
      "metadata": {
        "id": "nvg7EC5CLGyn",
        "colab_type": "code",
        "colab": {
          "base_uri": "https://localhost:8080/",
          "height": 340
        },
        "outputId": "9d9568a3-2603-400b-b82c-322a2c9e6de9"
      },
      "source": [
        "rf_grids.fit(X,y)"
      ],
      "execution_count": null,
      "outputs": [
        {
          "output_type": "execute_result",
          "data": {
            "text/plain": [
              "GridSearchCV(cv=None, error_score=nan,\n",
              "             estimator=RandomForestRegressor(bootstrap=True, ccp_alpha=0.0,\n",
              "                                             criterion='mse', max_depth=None,\n",
              "                                             max_features='auto',\n",
              "                                             max_leaf_nodes=None,\n",
              "                                             max_samples=None,\n",
              "                                             min_impurity_decrease=0.0,\n",
              "                                             min_impurity_split=None,\n",
              "                                             min_samples_leaf=1,\n",
              "                                             min_samples_split=2,\n",
              "                                             min_weight_fraction_leaf=0.0,\n",
              "                                             n_estimators=100, n_jobs=None,\n",
              "                                             oob_score=False, random_state=None,\n",
              "                                             verbose=0, warm_start=False),\n",
              "             iid='deprecated', n_jobs=None,\n",
              "             param_grid={'max_depth': (3, 6, 10, 15, 20),\n",
              "                         'n_estimators': (100, 300, 500, 700, 1000, 1500)},\n",
              "             pre_dispatch='2*n_jobs', refit=True, return_train_score=False,\n",
              "             scoring='neg_root_mean_squared_error', verbose=0)"
            ]
          },
          "metadata": {
            "tags": []
          },
          "execution_count": 175
        }
      ]
    },
    {
      "cell_type": "code",
      "metadata": {
        "id": "OYQ0hD54Ls3w",
        "colab_type": "code",
        "colab": {
          "base_uri": "https://localhost:8080/",
          "height": 1000
        },
        "outputId": "0e131889-cee2-41d8-b43b-5e887b46dcef"
      },
      "source": [
        "rf_grids.cv_results_"
      ],
      "execution_count": null,
      "outputs": [
        {
          "output_type": "execute_result",
          "data": {
            "text/plain": [
              "{'mean_fit_time': array([0.18089886, 0.51635356, 0.83190627, 1.16028776, 1.65748758,\n",
              "        2.47323809, 0.21993546, 0.66574607, 1.09102468, 1.53377738,\n",
              "        2.18577261, 3.31641903, 0.28264732, 0.84124465, 1.42324629,\n",
              "        2.0012352 , 2.79133067, 4.18798947, 0.30391479, 0.91084161,\n",
              "        1.50668883, 2.13200741, 3.01425071, 4.54282007, 0.3014616 ,\n",
              "        0.90449181, 1.51173172, 2.12066455, 3.01674232, 4.52123213]),\n",
              " 'mean_score_time': array([0.00722561, 0.0190464 , 0.02899361, 0.03947959, 0.05697784,\n",
              "        0.08400688, 0.00769057, 0.01985703, 0.03171864, 0.04507365,\n",
              "        0.06331081, 0.09417739, 0.00939536, 0.02369437, 0.03930578,\n",
              "        0.053795  , 0.07317467, 0.11340885, 0.00935564, 0.02472534,\n",
              "        0.03981457, 0.05703583, 0.0799253 , 0.11752591, 0.0093349 ,\n",
              "        0.02503119, 0.04070678, 0.05564899, 0.08053718, 0.11742439]),\n",
              " 'mean_test_score': array([-9.14416453, -9.1471244 , -9.10871076, -9.12416942, -9.09045656,\n",
              "        -9.10140255, -6.38527321, -6.36152736, -6.38323175, -6.38850694,\n",
              "        -6.37441075, -6.36940624, -5.48944158, -5.53027502, -5.49815712,\n",
              "        -5.48647789, -5.46939508, -5.48313542, -5.38661246, -5.38935207,\n",
              "        -5.35778798, -5.39761517, -5.37726835, -5.38784728, -5.42734632,\n",
              "        -5.41716647, -5.40389939, -5.36434662, -5.38584703, -5.38932609]),\n",
              " 'param_max_depth': masked_array(data=[3, 3, 3, 3, 3, 3, 6, 6, 6, 6, 6, 6, 10, 10, 10, 10, 10,\n",
              "                    10, 15, 15, 15, 15, 15, 15, 20, 20, 20, 20, 20, 20],\n",
              "              mask=[False, False, False, False, False, False, False, False,\n",
              "                    False, False, False, False, False, False, False, False,\n",
              "                    False, False, False, False, False, False, False, False,\n",
              "                    False, False, False, False, False, False],\n",
              "        fill_value='?',\n",
              "             dtype=object),\n",
              " 'param_n_estimators': masked_array(data=[100, 300, 500, 700, 1000, 1500, 100, 300, 500, 700,\n",
              "                    1000, 1500, 100, 300, 500, 700, 1000, 1500, 100, 300,\n",
              "                    500, 700, 1000, 1500, 100, 300, 500, 700, 1000, 1500],\n",
              "              mask=[False, False, False, False, False, False, False, False,\n",
              "                    False, False, False, False, False, False, False, False,\n",
              "                    False, False, False, False, False, False, False, False,\n",
              "                    False, False, False, False, False, False],\n",
              "        fill_value='?',\n",
              "             dtype=object),\n",
              " 'params': [{'max_depth': 3, 'n_estimators': 100},\n",
              "  {'max_depth': 3, 'n_estimators': 300},\n",
              "  {'max_depth': 3, 'n_estimators': 500},\n",
              "  {'max_depth': 3, 'n_estimators': 700},\n",
              "  {'max_depth': 3, 'n_estimators': 1000},\n",
              "  {'max_depth': 3, 'n_estimators': 1500},\n",
              "  {'max_depth': 6, 'n_estimators': 100},\n",
              "  {'max_depth': 6, 'n_estimators': 300},\n",
              "  {'max_depth': 6, 'n_estimators': 500},\n",
              "  {'max_depth': 6, 'n_estimators': 700},\n",
              "  {'max_depth': 6, 'n_estimators': 1000},\n",
              "  {'max_depth': 6, 'n_estimators': 1500},\n",
              "  {'max_depth': 10, 'n_estimators': 100},\n",
              "  {'max_depth': 10, 'n_estimators': 300},\n",
              "  {'max_depth': 10, 'n_estimators': 500},\n",
              "  {'max_depth': 10, 'n_estimators': 700},\n",
              "  {'max_depth': 10, 'n_estimators': 1000},\n",
              "  {'max_depth': 10, 'n_estimators': 1500},\n",
              "  {'max_depth': 15, 'n_estimators': 100},\n",
              "  {'max_depth': 15, 'n_estimators': 300},\n",
              "  {'max_depth': 15, 'n_estimators': 500},\n",
              "  {'max_depth': 15, 'n_estimators': 700},\n",
              "  {'max_depth': 15, 'n_estimators': 1000},\n",
              "  {'max_depth': 15, 'n_estimators': 1500},\n",
              "  {'max_depth': 20, 'n_estimators': 100},\n",
              "  {'max_depth': 20, 'n_estimators': 300},\n",
              "  {'max_depth': 20, 'n_estimators': 500},\n",
              "  {'max_depth': 20, 'n_estimators': 700},\n",
              "  {'max_depth': 20, 'n_estimators': 1000},\n",
              "  {'max_depth': 20, 'n_estimators': 1500}],\n",
              " 'rank_test_score': array([29, 30, 27, 28, 25, 26, 23, 19, 22, 24, 21, 20, 16, 18, 17, 15, 13,\n",
              "        14,  5,  8,  1,  9,  3,  6, 12, 11, 10,  2,  4,  7], dtype=int32),\n",
              " 'split0_test_score': array([-9.26862247, -9.25506085, -9.17026645, -9.222273  , -9.19732866,\n",
              "        -9.19201983, -6.48423713, -6.33591251, -6.48680205, -6.44019421,\n",
              "        -6.43414191, -6.43418477, -5.5153062 , -5.49196757, -5.58892157,\n",
              "        -5.48430866, -5.44989406, -5.45600394, -5.3634236 , -5.3957995 ,\n",
              "        -5.35027472, -5.35293053, -5.3877355 , -5.35811463, -5.60262879,\n",
              "        -5.40070624, -5.3715299 , -5.36918952, -5.36736403, -5.40015589]),\n",
              " 'split1_test_score': array([-9.80877486, -9.7734954 , -9.74966493, -9.77712443, -9.70454846,\n",
              "        -9.74243681, -6.70027024, -6.67081506, -6.63775286, -6.67244123,\n",
              "        -6.63987421, -6.5870087 , -5.71030157, -5.63852758, -5.61293658,\n",
              "        -5.62281853, -5.62473985, -5.63451771, -5.62383872, -5.59716069,\n",
              "        -5.54327821, -5.5465987 , -5.55975157, -5.54317165, -5.52206786,\n",
              "        -5.56256176, -5.55191399, -5.49976035, -5.5963896 , -5.56080892]),\n",
              " 'split2_test_score': array([-8.95088592, -8.99501923, -9.00339348, -8.98111789, -8.93833193,\n",
              "        -8.95491474, -6.33023832, -6.38486264, -6.39209642, -6.42994514,\n",
              "        -6.39867156, -6.39616105, -5.48792591, -5.65049831, -5.50547421,\n",
              "        -5.52593132, -5.51272742, -5.52359369, -5.39368603, -5.39208931,\n",
              "        -5.40898109, -5.40759563, -5.39762882, -5.42766243, -5.37040384,\n",
              "        -5.51791231, -5.42434168, -5.42813198, -5.38230807, -5.42439585]),\n",
              " 'split3_test_score': array([-8.07423734, -8.04313945, -7.92867383, -7.98561324, -7.95667619,\n",
              "        -7.98975742, -5.70448798, -5.68235558, -5.66256297, -5.67335768,\n",
              "        -5.70464806, -5.67963819, -4.7298146 , -4.86291806, -4.75717127,\n",
              "        -4.78239287, -4.77466416, -4.78067872, -4.68393272, -4.67710485,\n",
              "        -4.64623495, -4.70601746, -4.66602484, -4.67687868, -4.76603026,\n",
              "        -4.7134323 , -4.7226684 , -4.65732801, -4.68107035, -4.66424412]),\n",
              " 'split4_test_score': array([-9.61830209, -9.66890706, -9.69155512, -9.65471854, -9.65539754,\n",
              "        -9.62788396, -6.70713238, -6.73369099, -6.73694445, -6.72659643,\n",
              "        -6.69471801, -6.7500385 , -6.00385963, -6.00746359, -6.02628197,\n",
              "        -6.01693808, -5.98494994, -6.02088305, -5.86818123, -5.88460599,\n",
              "        -5.84017091, -5.97493351, -5.87520102, -5.93340902, -5.87560084,\n",
              "        -5.89121973, -5.949043  , -5.86732324, -5.9021031 , -5.89702566]),\n",
              " 'std_fit_time': array([0.00858337, 0.01171893, 0.00498125, 0.00536627, 0.00432205,\n",
              "        0.00856909, 0.00270618, 0.0043002 , 0.00596036, 0.00881913,\n",
              "        0.00781775, 0.0545056 , 0.00492488, 0.00981265, 0.02909669,\n",
              "        0.02875609, 0.01472392, 0.01586308, 0.00571613, 0.00396093,\n",
              "        0.01352491, 0.01592241, 0.01265076, 0.03714787, 0.00346369,\n",
              "        0.00391203, 0.01132538, 0.005843  , 0.01642547, 0.01436899]),\n",
              " 'std_score_time': array([0.00018178, 0.00121653, 0.00047193, 0.0002686 , 0.00123663,\n",
              "        0.00115973, 0.00010088, 0.00016072, 0.00040985, 0.00089419,\n",
              "        0.00229993, 0.00289749, 0.00093366, 0.00057849, 0.00184873,\n",
              "        0.00067571, 0.00051994, 0.00334289, 0.00015259, 0.00033272,\n",
              "        0.00029058, 0.00304956, 0.00222788, 0.00279429, 0.00014553,\n",
              "        0.0003658 , 0.00100654, 0.00119246, 0.00444624, 0.0020704 ]),\n",
              " 'std_test_score': array([0.61059052, 0.61938143, 0.65694715, 0.63784494, 0.63502577,\n",
              "        0.62506522, 0.36853973, 0.37326655, 0.3794898 , 0.37702794,\n",
              "        0.3537813 , 0.36685795, 0.42216335, 0.3743565 , 0.41217519,\n",
              "        0.39931786, 0.3936592 , 0.40197202, 0.39560873, 0.39895013,\n",
              "        0.39397584, 0.4088756 , 0.39689508, 0.40735952, 0.36910963,\n",
              "        0.38769285, 0.39613917, 0.39377397, 0.40197334, 0.40354833])}"
            ]
          },
          "metadata": {
            "tags": []
          },
          "execution_count": 176
        }
      ]
    },
    {
      "cell_type": "code",
      "metadata": {
        "id": "IgCd0r7gM2se",
        "colab_type": "code",
        "colab": {
          "base_uri": "https://localhost:8080/",
          "height": 34
        },
        "outputId": "ad039afc-e3fa-41d1-9027-d5817ec003d5"
      },
      "source": [
        "rf_grids.best_score_"
      ],
      "execution_count": null,
      "outputs": [
        {
          "output_type": "execute_result",
          "data": {
            "text/plain": [
              "-5.357787975421"
            ]
          },
          "metadata": {
            "tags": []
          },
          "execution_count": 177
        }
      ]
    },
    {
      "cell_type": "code",
      "metadata": {
        "id": "bUWr7BbnNRK9",
        "colab_type": "code",
        "colab": {
          "base_uri": "https://localhost:8080/",
          "height": 34
        },
        "outputId": "7b3b7cc4-979d-48b8-805d-a8440664f4f4"
      },
      "source": [
        "rf_grids.best_params_"
      ],
      "execution_count": null,
      "outputs": [
        {
          "output_type": "execute_result",
          "data": {
            "text/plain": [
              "{'max_depth': 15, 'n_estimators': 500}"
            ]
          },
          "metadata": {
            "tags": []
          },
          "execution_count": 178
        }
      ]
    },
    {
      "cell_type": "markdown",
      "metadata": {
        "id": "0QlZji-3Wips",
        "colab_type": "text"
      },
      "source": [
        "XGBoost"
      ]
    },
    {
      "cell_type": "code",
      "metadata": {
        "id": "n4-fNGH-NZV6",
        "colab_type": "code",
        "colab": {}
      },
      "source": [
        "import xgboost as xgb"
      ],
      "execution_count": null,
      "outputs": []
    },
    {
      "cell_type": "code",
      "metadata": {
        "id": "roJBg-vqXVNA",
        "colab_type": "code",
        "colab": {}
      },
      "source": [
        "dtrain = xgb.DMatrix(X_train, label = y_train)\n",
        "dtest = xgb.DMatrix(X_test, label = y_test)"
      ],
      "execution_count": null,
      "outputs": []
    },
    {
      "cell_type": "code",
      "metadata": {
        "id": "njs4r7O-XlNz",
        "colab_type": "code",
        "colab": {
          "base_uri": "https://localhost:8080/",
          "height": 1000
        },
        "outputId": "8300fbc1-630c-463c-e4cb-981d19485479"
      },
      "source": [
        "params = {\n",
        "    # Parameters that we are going to tune.\n",
        "    'max_depth':10,\n",
        "    'min_child_weight': 1,\n",
        "    'eta':.3,\n",
        "    'subsample': 1,\n",
        "    'colsample_bytree': 1,\n",
        "    # Other parameters\n",
        "    'objective':'reg:squarederror',\n",
        "    'eval_metric' : 'rmse'\n",
        "}\n",
        "num_boost_round = 999\n",
        "xgb_model = xgb.train(\n",
        "    params,\n",
        "    dtrain,\n",
        "    num_boost_round=num_boost_round,\n",
        "    evals=[(dtest, \"Test\")],\n",
        "    early_stopping_rounds=10\n",
        ")\n",
        "\n"
      ],
      "execution_count": null,
      "outputs": [
        {
          "output_type": "stream",
          "text": [
            "[0]\tTest-rmse:28.4176\n",
            "Will train until Test-rmse hasn't improved in 10 rounds.\n",
            "[1]\tTest-rmse:20.8467\n",
            "[2]\tTest-rmse:15.6319\n",
            "[3]\tTest-rmse:12.0916\n",
            "[4]\tTest-rmse:9.72656\n",
            "[5]\tTest-rmse:7.9905\n",
            "[6]\tTest-rmse:7.09033\n",
            "[7]\tTest-rmse:6.41605\n",
            "[8]\tTest-rmse:5.95118\n",
            "[9]\tTest-rmse:5.65585\n",
            "[10]\tTest-rmse:5.46611\n",
            "[11]\tTest-rmse:5.32743\n",
            "[12]\tTest-rmse:5.24447\n",
            "[13]\tTest-rmse:5.20438\n",
            "[14]\tTest-rmse:5.17581\n",
            "[15]\tTest-rmse:5.14922\n",
            "[16]\tTest-rmse:5.14509\n",
            "[17]\tTest-rmse:5.12163\n",
            "[18]\tTest-rmse:5.11676\n",
            "[19]\tTest-rmse:5.10518\n",
            "[20]\tTest-rmse:5.097\n",
            "[21]\tTest-rmse:5.08658\n",
            "[22]\tTest-rmse:5.08885\n",
            "[23]\tTest-rmse:5.09644\n",
            "[24]\tTest-rmse:5.09914\n",
            "[25]\tTest-rmse:5.09005\n",
            "[26]\tTest-rmse:5.08418\n",
            "[27]\tTest-rmse:5.08279\n",
            "[28]\tTest-rmse:5.07869\n",
            "[29]\tTest-rmse:5.07635\n",
            "[30]\tTest-rmse:5.07051\n",
            "[31]\tTest-rmse:5.06342\n",
            "[32]\tTest-rmse:5.06221\n",
            "[33]\tTest-rmse:5.06019\n",
            "[34]\tTest-rmse:5.05823\n",
            "[35]\tTest-rmse:5.05668\n",
            "[36]\tTest-rmse:5.05655\n",
            "[37]\tTest-rmse:5.05124\n",
            "[38]\tTest-rmse:5.04777\n",
            "[39]\tTest-rmse:5.04884\n",
            "[40]\tTest-rmse:5.04567\n",
            "[41]\tTest-rmse:5.04204\n",
            "[42]\tTest-rmse:5.04085\n",
            "[43]\tTest-rmse:5.03973\n",
            "[44]\tTest-rmse:5.03899\n",
            "[45]\tTest-rmse:5.03896\n",
            "[46]\tTest-rmse:5.03878\n",
            "[47]\tTest-rmse:5.03808\n",
            "[48]\tTest-rmse:5.03717\n",
            "[49]\tTest-rmse:5.03573\n",
            "[50]\tTest-rmse:5.03491\n",
            "[51]\tTest-rmse:5.03408\n",
            "[52]\tTest-rmse:5.0336\n",
            "[53]\tTest-rmse:5.03386\n",
            "[54]\tTest-rmse:5.03279\n",
            "[55]\tTest-rmse:5.03257\n",
            "[56]\tTest-rmse:5.03234\n",
            "[57]\tTest-rmse:5.03215\n",
            "[58]\tTest-rmse:5.0323\n",
            "[59]\tTest-rmse:5.03197\n",
            "[60]\tTest-rmse:5.03152\n",
            "[61]\tTest-rmse:5.0316\n",
            "[62]\tTest-rmse:5.0316\n",
            "[63]\tTest-rmse:5.03171\n",
            "[64]\tTest-rmse:5.03187\n",
            "[65]\tTest-rmse:5.03159\n",
            "[66]\tTest-rmse:5.03127\n",
            "[67]\tTest-rmse:5.03116\n",
            "[68]\tTest-rmse:5.03109\n",
            "[69]\tTest-rmse:5.03097\n",
            "[70]\tTest-rmse:5.03111\n",
            "[71]\tTest-rmse:5.03123\n",
            "[72]\tTest-rmse:5.03126\n",
            "[73]\tTest-rmse:5.031\n",
            "[74]\tTest-rmse:5.03102\n",
            "[75]\tTest-rmse:5.031\n",
            "[76]\tTest-rmse:5.03109\n",
            "[77]\tTest-rmse:5.0311\n",
            "[78]\tTest-rmse:5.03127\n",
            "[79]\tTest-rmse:5.03127\n",
            "Stopping. Best iteration:\n",
            "[69]\tTest-rmse:5.03097\n",
            "\n"
          ],
          "name": "stdout"
        }
      ]
    },
    {
      "cell_type": "markdown",
      "metadata": {
        "id": "8xxawVWxa4Se",
        "colab_type": "text"
      },
      "source": [
        "CV xgb"
      ]
    },
    {
      "cell_type": "code",
      "metadata": {
        "id": "DtftxZhsZrD3",
        "colab_type": "code",
        "colab": {}
      },
      "source": [
        "cv_results = xgb.cv(\n",
        "    params,\n",
        "    dtrain,\n",
        "    num_boost_round=num_boost_round,\n",
        "    seed=42,\n",
        "    nfold=5,\n",
        "    metrics={'rmse'},\n",
        "    early_stopping_rounds=10\n",
        ")"
      ],
      "execution_count": null,
      "outputs": []
    },
    {
      "cell_type": "code",
      "metadata": {
        "id": "6irZOpPXa_5Y",
        "colab_type": "code",
        "colab": {
          "base_uri": "https://localhost:8080/",
          "height": 419
        },
        "outputId": "c6c30c45-27ef-4857-94e2-ba492b1b3485"
      },
      "source": [
        "cv_results"
      ],
      "execution_count": null,
      "outputs": [
        {
          "output_type": "execute_result",
          "data": {
            "text/html": [
              "<div>\n",
              "<style scoped>\n",
              "    .dataframe tbody tr th:only-of-type {\n",
              "        vertical-align: middle;\n",
              "    }\n",
              "\n",
              "    .dataframe tbody tr th {\n",
              "        vertical-align: top;\n",
              "    }\n",
              "\n",
              "    .dataframe thead th {\n",
              "        text-align: right;\n",
              "    }\n",
              "</style>\n",
              "<table border=\"1\" class=\"dataframe\">\n",
              "  <thead>\n",
              "    <tr style=\"text-align: right;\">\n",
              "      <th></th>\n",
              "      <th>train-rmse-mean</th>\n",
              "      <th>train-rmse-std</th>\n",
              "      <th>test-rmse-mean</th>\n",
              "      <th>test-rmse-std</th>\n",
              "    </tr>\n",
              "  </thead>\n",
              "  <tbody>\n",
              "    <tr>\n",
              "      <th>0</th>\n",
              "      <td>28.175105</td>\n",
              "      <td>0.292266</td>\n",
              "      <td>28.345010</td>\n",
              "      <td>1.741791</td>\n",
              "    </tr>\n",
              "    <tr>\n",
              "      <th>1</th>\n",
              "      <td>20.516861</td>\n",
              "      <td>0.208389</td>\n",
              "      <td>20.931259</td>\n",
              "      <td>1.785394</td>\n",
              "    </tr>\n",
              "    <tr>\n",
              "      <th>2</th>\n",
              "      <td>15.113349</td>\n",
              "      <td>0.161468</td>\n",
              "      <td>15.861007</td>\n",
              "      <td>1.554753</td>\n",
              "    </tr>\n",
              "    <tr>\n",
              "      <th>3</th>\n",
              "      <td>11.217515</td>\n",
              "      <td>0.106592</td>\n",
              "      <td>12.491012</td>\n",
              "      <td>1.413424</td>\n",
              "    </tr>\n",
              "    <tr>\n",
              "      <th>4</th>\n",
              "      <td>8.420119</td>\n",
              "      <td>0.076294</td>\n",
              "      <td>10.261645</td>\n",
              "      <td>1.301787</td>\n",
              "    </tr>\n",
              "    <tr>\n",
              "      <th>...</th>\n",
              "      <td>...</td>\n",
              "      <td>...</td>\n",
              "      <td>...</td>\n",
              "      <td>...</td>\n",
              "    </tr>\n",
              "    <tr>\n",
              "      <th>73</th>\n",
              "      <td>0.043370</td>\n",
              "      <td>0.026741</td>\n",
              "      <td>5.668074</td>\n",
              "      <td>0.555383</td>\n",
              "    </tr>\n",
              "    <tr>\n",
              "      <th>74</th>\n",
              "      <td>0.043054</td>\n",
              "      <td>0.027069</td>\n",
              "      <td>5.668145</td>\n",
              "      <td>0.555341</td>\n",
              "    </tr>\n",
              "    <tr>\n",
              "      <th>75</th>\n",
              "      <td>0.042846</td>\n",
              "      <td>0.027235</td>\n",
              "      <td>5.668162</td>\n",
              "      <td>0.555266</td>\n",
              "    </tr>\n",
              "    <tr>\n",
              "      <th>76</th>\n",
              "      <td>0.042395</td>\n",
              "      <td>0.027729</td>\n",
              "      <td>5.668092</td>\n",
              "      <td>0.555318</td>\n",
              "    </tr>\n",
              "    <tr>\n",
              "      <th>77</th>\n",
              "      <td>0.042037</td>\n",
              "      <td>0.028085</td>\n",
              "      <td>5.668036</td>\n",
              "      <td>0.555294</td>\n",
              "    </tr>\n",
              "  </tbody>\n",
              "</table>\n",
              "<p>78 rows × 4 columns</p>\n",
              "</div>"
            ],
            "text/plain": [
              "    train-rmse-mean  train-rmse-std  test-rmse-mean  test-rmse-std\n",
              "0         28.175105        0.292266       28.345010       1.741791\n",
              "1         20.516861        0.208389       20.931259       1.785394\n",
              "2         15.113349        0.161468       15.861007       1.554753\n",
              "3         11.217515        0.106592       12.491012       1.413424\n",
              "4          8.420119        0.076294       10.261645       1.301787\n",
              "..              ...             ...             ...            ...\n",
              "73         0.043370        0.026741        5.668074       0.555383\n",
              "74         0.043054        0.027069        5.668145       0.555341\n",
              "75         0.042846        0.027235        5.668162       0.555266\n",
              "76         0.042395        0.027729        5.668092       0.555318\n",
              "77         0.042037        0.028085        5.668036       0.555294\n",
              "\n",
              "[78 rows x 4 columns]"
            ]
          },
          "metadata": {
            "tags": []
          },
          "execution_count": 183
        }
      ]
    },
    {
      "cell_type": "markdown",
      "metadata": {
        "id": "OJcdT-Qfbks9",
        "colab_type": "text"
      },
      "source": [
        "Tuning XGB\n",
        "\n",
        "\n"
      ]
    },
    {
      "cell_type": "code",
      "metadata": {
        "id": "wDZA6h3UbWW5",
        "colab_type": "code",
        "colab": {}
      },
      "source": [
        "gridsearch_params = [\n",
        "    (max_depth, min_child_weight)\n",
        "    for max_depth in range(3,10)\n",
        "    for min_child_weight in range(5,8)\n",
        "]"
      ],
      "execution_count": null,
      "outputs": []
    },
    {
      "cell_type": "code",
      "metadata": {
        "id": "QLLbDqPJbBub",
        "colab_type": "code",
        "colab": {
          "base_uri": "https://localhost:8080/",
          "height": 748
        },
        "outputId": "4ce3d4d4-5b59-44dc-f584-269d6dc5eb71"
      },
      "source": [
        "# Define initial best params and MAE\n",
        "min_rmse = float(\"Inf\")\n",
        "best_params = None\n",
        "for max_depth, min_child_weight in gridsearch_params:\n",
        "    print(\"CV with max_depth={}, min_child_weight={}\".format(\n",
        "                             max_depth,\n",
        "                             min_child_weight))\n",
        "    # Update our parameters\n",
        "    params['max_depth'] = max_depth\n",
        "    params['min_child_weight'] = min_child_weight\n",
        "    # Run CV\n",
        "    cv_results = xgb.cv(\n",
        "        params,\n",
        "        dtrain,\n",
        "        num_boost_round=num_boost_round,\n",
        "        seed=42,\n",
        "        nfold=5,\n",
        "        metrics={'rmse'},\n",
        "        early_stopping_rounds=10\n",
        "    )\n",
        "    # Update best MAE\n",
        "    mean_rmse = cv_results['test-rmse-mean'].min()\n",
        "    boost_rounds = cv_results['test-rmse-mean'].argmin()\n",
        "    print(\"\\tMAE {} for {} rounds\".format(mean_rmse, boost_rounds))\n",
        "    if mean_rmse < min_rmse:\n",
        "        min_rmse = mean_rmse\n",
        "        best_params = (max_depth,min_child_weight)\n",
        "print(\"Best params: {}, {}, RMSE: {}\".format(best_params[0], best_params[1], min_rmse))"
      ],
      "execution_count": null,
      "outputs": [
        {
          "output_type": "stream",
          "text": [
            "CV with max_depth=3, min_child_weight=5\n",
            "\tMAE 5.402834 for 226 rounds\n",
            "CV with max_depth=3, min_child_weight=6\n",
            "\tMAE 5.361391 for 245 rounds\n",
            "CV with max_depth=3, min_child_weight=7\n",
            "\tMAE 5.334613 for 207 rounds\n",
            "CV with max_depth=4, min_child_weight=5\n",
            "\tMAE 5.3167002 for 164 rounds\n",
            "CV with max_depth=4, min_child_weight=6\n",
            "\tMAE 5.2121482 for 201 rounds\n",
            "CV with max_depth=4, min_child_weight=7\n",
            "\tMAE 5.3156398000000005 for 97 rounds\n",
            "CV with max_depth=5, min_child_weight=5\n",
            "\tMAE 5.3207184000000005 for 78 rounds\n",
            "CV with max_depth=5, min_child_weight=6\n",
            "\tMAE 5.1879024000000005 for 108 rounds\n",
            "CV with max_depth=5, min_child_weight=7\n",
            "\tMAE 5.0525101999999995 for 154 rounds\n",
            "CV with max_depth=6, min_child_weight=5\n",
            "\tMAE 5.317382 for 138 rounds\n",
            "CV with max_depth=6, min_child_weight=6\n",
            "\tMAE 5.2938014 for 115 rounds\n",
            "CV with max_depth=6, min_child_weight=7\n",
            "\tMAE 5.1826908000000005 for 78 rounds\n",
            "CV with max_depth=7, min_child_weight=5\n",
            "\tMAE 5.4106544 for 129 rounds\n",
            "CV with max_depth=7, min_child_weight=6\n",
            "\tMAE 5.4715916 for 93 rounds\n",
            "CV with max_depth=7, min_child_weight=7\n",
            "\tMAE 5.5397262 for 60 rounds\n",
            "CV with max_depth=8, min_child_weight=5\n",
            "\tMAE 5.475493999999999 for 53 rounds\n",
            "CV with max_depth=8, min_child_weight=6\n",
            "\tMAE 5.5304348 for 112 rounds\n",
            "CV with max_depth=8, min_child_weight=7\n",
            "\tMAE 5.3800206 for 62 rounds\n",
            "CV with max_depth=9, min_child_weight=5\n",
            "\tMAE 5.4406930000000004 for 99 rounds\n",
            "CV with max_depth=9, min_child_weight=6\n",
            "\tMAE 5.5009896000000005 for 108 rounds\n",
            "CV with max_depth=9, min_child_weight=7\n",
            "\tMAE 5.4863516 for 71 rounds\n",
            "Best params: 5, 7, RMSE: 5.0525101999999995\n"
          ],
          "name": "stdout"
        }
      ]
    },
    {
      "cell_type": "code",
      "metadata": {
        "id": "U5mXsg2TcRtN",
        "colab_type": "code",
        "colab": {}
      },
      "source": [
        "params['max_depth'] = 5\n",
        "params['min_child_weight'] = 7"
      ],
      "execution_count": null,
      "outputs": []
    },
    {
      "cell_type": "code",
      "metadata": {
        "id": "cypXUZzRdL6n",
        "colab_type": "code",
        "colab": {}
      },
      "source": [
        "gridsearch_params = [\n",
        "    (subsample, colsample)\n",
        "    for subsample in [i/10. for i in range(3,11)]\n",
        "    for colsample in [i/10. for i in range(3,11)]\n",
        "]"
      ],
      "execution_count": null,
      "outputs": []
    },
    {
      "cell_type": "code",
      "metadata": {
        "id": "gjyOiC4QdTVX",
        "colab_type": "code",
        "colab": {
          "base_uri": "https://localhost:8080/",
          "height": 1000
        },
        "outputId": "35a5eb17-e98e-4b40-b3e4-afebea365cd8"
      },
      "source": [
        "min_rmse = float(\"Inf\")\n",
        "best_params = None\n",
        "# We start by the largest values and go down to the smallest\n",
        "for subsample, colsample in reversed(gridsearch_params):\n",
        "    print(\"CV with subsample={}, colsample={}\".format(\n",
        "                             subsample,\n",
        "                             colsample))\n",
        "    # We update our parameters\n",
        "    params['subsample'] = subsample\n",
        "    params['colsample_bytree'] = colsample\n",
        "    # Run CV\n",
        "    cv_results = xgb.cv(\n",
        "        params,\n",
        "        dtrain,\n",
        "        num_boost_round=num_boost_round,\n",
        "        seed=42,\n",
        "        nfold=5,\n",
        "        metrics={'rmse'},\n",
        "        early_stopping_rounds=10\n",
        "    )\n",
        "    # Update best score\n",
        "    mean_rmse = cv_results['test-rmse-mean'].min()\n",
        "    boost_rounds = cv_results['test-rmse-mean'].argmin()\n",
        "    print(\"\\tRMSE {} for {} rounds\".format(mean_rmse, boost_rounds))\n",
        "    if mean_rmse < min_rmse:\n",
        "        min_rmse = mean_rmse\n",
        "        best_params = (subsample,colsample)\n",
        "print(\"Best params: {}, {}, RMSE: {}\".format(best_params[0], best_params[1], min_rmse))"
      ],
      "execution_count": null,
      "outputs": [
        {
          "output_type": "stream",
          "text": [
            "CV with subsample=1.0, colsample=1.0\n",
            "\tRMSE 5.0525101999999995 for 154 rounds\n",
            "CV with subsample=1.0, colsample=0.9\n",
            "\tRMSE 5.3737972 for 132 rounds\n",
            "CV with subsample=1.0, colsample=0.8\n",
            "\tRMSE 5.418122800000001 for 198 rounds\n",
            "CV with subsample=1.0, colsample=0.7\n",
            "\tRMSE 5.385783 for 108 rounds\n",
            "CV with subsample=1.0, colsample=0.6\n",
            "\tRMSE 5.3936188000000005 for 161 rounds\n",
            "CV with subsample=1.0, colsample=0.5\n",
            "\tRMSE 5.3936188000000005 for 161 rounds\n",
            "CV with subsample=1.0, colsample=0.4\n",
            "\tRMSE 5.606705600000001 for 305 rounds\n",
            "CV with subsample=1.0, colsample=0.3\n",
            "\tRMSE 5.6388788 for 410 rounds\n",
            "CV with subsample=0.9, colsample=1.0\n",
            "\tRMSE 5.570622999999999 for 47 rounds\n",
            "CV with subsample=0.9, colsample=0.9\n",
            "\tRMSE 5.2743026 for 80 rounds\n",
            "CV with subsample=0.9, colsample=0.8\n",
            "\tRMSE 4.983958400000001 for 134 rounds\n",
            "CV with subsample=0.9, colsample=0.7\n",
            "\tRMSE 5.172579799999999 for 123 rounds\n",
            "CV with subsample=0.9, colsample=0.6\n",
            "\tRMSE 5.2046672 for 134 rounds\n",
            "CV with subsample=0.9, colsample=0.5\n",
            "\tRMSE 5.2046672 for 134 rounds\n",
            "CV with subsample=0.9, colsample=0.4\n",
            "\tRMSE 5.6315612 for 134 rounds\n",
            "CV with subsample=0.9, colsample=0.3\n",
            "\tRMSE 5.6677486 for 250 rounds\n",
            "CV with subsample=0.8, colsample=1.0\n",
            "\tRMSE 5.550731600000001 for 117 rounds\n",
            "CV with subsample=0.8, colsample=0.9\n",
            "\tRMSE 5.357266 for 108 rounds\n",
            "CV with subsample=0.8, colsample=0.8\n",
            "\tRMSE 5.4096252 for 49 rounds\n",
            "CV with subsample=0.8, colsample=0.7\n",
            "\tRMSE 5.1669158 for 72 rounds\n",
            "CV with subsample=0.8, colsample=0.6\n",
            "\tRMSE 5.4410837999999995 for 50 rounds\n",
            "CV with subsample=0.8, colsample=0.5\n",
            "\tRMSE 5.4410837999999995 for 50 rounds\n",
            "CV with subsample=0.8, colsample=0.4\n",
            "\tRMSE 5.520618600000001 for 165 rounds\n",
            "CV with subsample=0.8, colsample=0.3\n",
            "\tRMSE 5.7466274 for 212 rounds\n",
            "CV with subsample=0.7, colsample=1.0\n",
            "\tRMSE 5.267577 for 91 rounds\n",
            "CV with subsample=0.7, colsample=0.9\n",
            "\tRMSE 5.116379 for 134 rounds\n",
            "CV with subsample=0.7, colsample=0.8\n",
            "\tRMSE 5.2330242 for 129 rounds\n",
            "CV with subsample=0.7, colsample=0.7\n",
            "\tRMSE 5.2384988 for 86 rounds\n",
            "CV with subsample=0.7, colsample=0.6\n",
            "\tRMSE 5.485025 for 88 rounds\n",
            "CV with subsample=0.7, colsample=0.5\n",
            "\tRMSE 5.485025 for 88 rounds\n",
            "CV with subsample=0.7, colsample=0.4\n",
            "\tRMSE 5.576202799999999 for 85 rounds\n",
            "CV with subsample=0.7, colsample=0.3\n",
            "\tRMSE 6.0368341999999995 for 88 rounds\n",
            "CV with subsample=0.6, colsample=1.0\n",
            "\tRMSE 5.4091718 for 82 rounds\n",
            "CV with subsample=0.6, colsample=0.9\n",
            "\tRMSE 5.545672000000001 for 60 rounds\n",
            "CV with subsample=0.6, colsample=0.8\n",
            "\tRMSE 5.1471919999999995 for 131 rounds\n",
            "CV with subsample=0.6, colsample=0.7\n",
            "\tRMSE 5.319371199999999 for 115 rounds\n",
            "CV with subsample=0.6, colsample=0.6\n",
            "\tRMSE 5.686843399999999 for 70 rounds\n",
            "CV with subsample=0.6, colsample=0.5\n",
            "\tRMSE 5.686843399999999 for 70 rounds\n",
            "CV with subsample=0.6, colsample=0.4\n",
            "\tRMSE 5.9572748 for 86 rounds\n",
            "CV with subsample=0.6, colsample=0.3\n",
            "\tRMSE 5.990554 for 101 rounds\n",
            "CV with subsample=0.5, colsample=1.0\n",
            "\tRMSE 5.5189644 for 51 rounds\n",
            "CV with subsample=0.5, colsample=0.9\n",
            "\tRMSE 5.6511724 for 57 rounds\n",
            "CV with subsample=0.5, colsample=0.8\n",
            "\tRMSE 5.5288652 for 73 rounds\n",
            "CV with subsample=0.5, colsample=0.7\n",
            "\tRMSE 5.319682800000001 for 64 rounds\n",
            "CV with subsample=0.5, colsample=0.6\n",
            "\tRMSE 5.6367764000000005 for 91 rounds\n",
            "CV with subsample=0.5, colsample=0.5\n",
            "\tRMSE 5.6367764000000005 for 91 rounds\n",
            "CV with subsample=0.5, colsample=0.4\n",
            "\tRMSE 5.7531564 for 80 rounds\n",
            "CV with subsample=0.5, colsample=0.3\n",
            "\tRMSE 5.8735406 for 101 rounds\n",
            "CV with subsample=0.4, colsample=1.0\n",
            "\tRMSE 5.779613 for 64 rounds\n",
            "CV with subsample=0.4, colsample=0.9\n",
            "\tRMSE 5.7644210000000005 for 56 rounds\n",
            "CV with subsample=0.4, colsample=0.8\n",
            "\tRMSE 5.5461030000000004 for 71 rounds\n",
            "CV with subsample=0.4, colsample=0.7\n",
            "\tRMSE 5.6266038 for 57 rounds\n",
            "CV with subsample=0.4, colsample=0.6\n",
            "\tRMSE 5.722243199999999 for 57 rounds\n",
            "CV with subsample=0.4, colsample=0.5\n",
            "\tRMSE 5.722243199999999 for 57 rounds\n",
            "CV with subsample=0.4, colsample=0.4\n",
            "\tRMSE 5.9273948 for 83 rounds\n",
            "CV with subsample=0.4, colsample=0.3\n",
            "\tRMSE 6.1971036 for 99 rounds\n",
            "CV with subsample=0.3, colsample=1.0\n",
            "\tRMSE 5.96417 for 26 rounds\n",
            "CV with subsample=0.3, colsample=0.9\n",
            "\tRMSE 5.7074018 for 64 rounds\n",
            "CV with subsample=0.3, colsample=0.8\n",
            "\tRMSE 5.7883629999999995 for 68 rounds\n",
            "CV with subsample=0.3, colsample=0.7\n",
            "\tRMSE 5.618286799999999 for 87 rounds\n",
            "CV with subsample=0.3, colsample=0.6\n",
            "\tRMSE 5.6899586 for 62 rounds\n",
            "CV with subsample=0.3, colsample=0.5\n",
            "\tRMSE 5.6899586 for 62 rounds\n",
            "CV with subsample=0.3, colsample=0.4\n",
            "\tRMSE 6.009926600000001 for 140 rounds\n",
            "CV with subsample=0.3, colsample=0.3\n",
            "\tRMSE 6.069155199999999 for 113 rounds\n",
            "Best params: 0.9, 0.8, RMSE: 4.983958400000001\n"
          ],
          "name": "stdout"
        }
      ]
    },
    {
      "cell_type": "code",
      "metadata": {
        "id": "i6EjfZ4Zdlnr",
        "colab_type": "code",
        "colab": {}
      },
      "source": [
        "params['subsample'] = 0.9\n",
        "params['colsample_bytree'] = 0.8"
      ],
      "execution_count": null,
      "outputs": []
    },
    {
      "cell_type": "code",
      "metadata": {
        "id": "T3Hx-Omfe08K",
        "colab_type": "code",
        "colab": {
          "base_uri": "https://localhost:8080/",
          "height": 442
        },
        "outputId": "2045745c-359a-46cf-9b13-e5e7d2e3db39"
      },
      "source": [
        "min_rmse = float(\"Inf\")\n",
        "best_params = None\n",
        "for eta in [.5, .4, .3, .2, .1, .05, .01, .005]:\n",
        "    print(\"CV with eta={}\".format(eta))\n",
        "    # We update our parameters\n",
        "    params['eta'] = eta\n",
        "    # Run and time CV\n",
        "    cv_results = xgb.cv(\n",
        "            params,\n",
        "            dtrain,\n",
        "            num_boost_round=num_boost_round,\n",
        "            seed=42,\n",
        "            nfold=5,\n",
        "            metrics=['rmse'],\n",
        "            early_stopping_rounds=10\n",
        "          )\n",
        "    # Update best score\n",
        "    mean_rmse = cv_results['test-rmse-mean'].min()\n",
        "    boost_rounds = cv_results['test-rmse-mean'].argmin()\n",
        "    print(\"\\tRMSE {} for {} rounds\\n\".format(mean_rmse, boost_rounds))\n",
        "    if mean_rmse < min_rmse:\n",
        "        min_rmse = mean_rmse\n",
        "        best_params = eta\n",
        "print(\"Best params: {}, RMSE: {}\".format(best_params, min_rmse))"
      ],
      "execution_count": null,
      "outputs": [
        {
          "output_type": "stream",
          "text": [
            "CV with eta=0.5\n",
            "\tRMSE 5.5472166000000005 for 103 rounds\n",
            "\n",
            "CV with eta=0.4\n",
            "\tRMSE 5.3004692 for 55 rounds\n",
            "\n",
            "CV with eta=0.3\n",
            "\tRMSE 4.983958400000001 for 134 rounds\n",
            "\n",
            "CV with eta=0.2\n",
            "\tRMSE 5.021507399999999 for 306 rounds\n",
            "\n",
            "CV with eta=0.1\n",
            "\tRMSE 5.0687532 for 276 rounds\n",
            "\n",
            "CV with eta=0.05\n",
            "\tRMSE 4.9234054 for 835 rounds\n",
            "\n",
            "CV with eta=0.01\n",
            "\tRMSE 5.2722384 for 998 rounds\n",
            "\n",
            "CV with eta=0.005\n",
            "\tRMSE 5.697837 for 998 rounds\n",
            "\n",
            "Best params: 0.05, RMSE: 4.9234054\n"
          ],
          "name": "stdout"
        }
      ]
    },
    {
      "cell_type": "code",
      "metadata": {
        "id": "qWQe8WPYf2OS",
        "colab_type": "code",
        "colab": {}
      },
      "source": [
        "params['eta'] = 0.05"
      ],
      "execution_count": null,
      "outputs": []
    },
    {
      "cell_type": "code",
      "metadata": {
        "id": "pMd-ESRdge8z",
        "colab_type": "code",
        "colab": {
          "base_uri": "https://localhost:8080/",
          "height": 1000
        },
        "outputId": "552eb248-4686-4cef-e66d-02b443c89c0b"
      },
      "source": [
        "xgb_model = xgb.train(\n",
        "    params,\n",
        "    dtrain,\n",
        "    num_boost_round=num_boost_round,\n",
        "    evals=[(dtest, \"Test\")],\n",
        "    early_stopping_rounds=10\n",
        ")\n"
      ],
      "execution_count": null,
      "outputs": [
        {
          "output_type": "stream",
          "text": [
            "[0]\tTest-rmse:37.5989\n",
            "Will train until Test-rmse hasn't improved in 10 rounds.\n",
            "[1]\tTest-rmse:35.8884\n",
            "[2]\tTest-rmse:34.2099\n",
            "[3]\tTest-rmse:32.6394\n",
            "[4]\tTest-rmse:31.1827\n",
            "[5]\tTest-rmse:29.8242\n",
            "[6]\tTest-rmse:28.4378\n",
            "[7]\tTest-rmse:27.1561\n",
            "[8]\tTest-rmse:25.9149\n",
            "[9]\tTest-rmse:24.8654\n",
            "[10]\tTest-rmse:23.8473\n",
            "[11]\tTest-rmse:22.7905\n",
            "[12]\tTest-rmse:21.8527\n",
            "[13]\tTest-rmse:20.9389\n",
            "[14]\tTest-rmse:20.0362\n",
            "[15]\tTest-rmse:19.2863\n",
            "[16]\tTest-rmse:18.553\n",
            "[17]\tTest-rmse:17.7498\n",
            "[18]\tTest-rmse:17.0863\n",
            "[19]\tTest-rmse:16.359\n",
            "[20]\tTest-rmse:15.7861\n",
            "[21]\tTest-rmse:15.1487\n",
            "[22]\tTest-rmse:14.5531\n",
            "[23]\tTest-rmse:13.9871\n",
            "[24]\tTest-rmse:13.4503\n",
            "[25]\tTest-rmse:12.972\n",
            "[26]\tTest-rmse:12.535\n",
            "[27]\tTest-rmse:12.1417\n",
            "[28]\tTest-rmse:11.7302\n",
            "[29]\tTest-rmse:11.372\n",
            "[30]\tTest-rmse:10.9982\n",
            "[31]\tTest-rmse:10.6396\n",
            "[32]\tTest-rmse:10.2808\n",
            "[33]\tTest-rmse:9.9438\n",
            "[34]\tTest-rmse:9.64617\n",
            "[35]\tTest-rmse:9.3611\n",
            "[36]\tTest-rmse:9.10528\n",
            "[37]\tTest-rmse:8.86043\n",
            "[38]\tTest-rmse:8.65818\n",
            "[39]\tTest-rmse:8.44087\n",
            "[40]\tTest-rmse:8.23752\n",
            "[41]\tTest-rmse:8.05892\n",
            "[42]\tTest-rmse:7.88299\n",
            "[43]\tTest-rmse:7.73316\n",
            "[44]\tTest-rmse:7.60371\n",
            "[45]\tTest-rmse:7.47948\n",
            "[46]\tTest-rmse:7.36413\n",
            "[47]\tTest-rmse:7.24943\n",
            "[48]\tTest-rmse:7.1051\n",
            "[49]\tTest-rmse:7.01659\n",
            "[50]\tTest-rmse:6.8995\n",
            "[51]\tTest-rmse:6.79443\n",
            "[52]\tTest-rmse:6.7023\n",
            "[53]\tTest-rmse:6.61355\n",
            "[54]\tTest-rmse:6.53207\n",
            "[55]\tTest-rmse:6.45408\n",
            "[56]\tTest-rmse:6.38276\n",
            "[57]\tTest-rmse:6.31602\n",
            "[58]\tTest-rmse:6.25015\n",
            "[59]\tTest-rmse:6.22484\n",
            "[60]\tTest-rmse:6.16025\n",
            "[61]\tTest-rmse:6.11422\n",
            "[62]\tTest-rmse:6.08309\n",
            "[63]\tTest-rmse:6.04192\n",
            "[64]\tTest-rmse:6.00084\n",
            "[65]\tTest-rmse:5.96921\n",
            "[66]\tTest-rmse:5.94336\n",
            "[67]\tTest-rmse:5.91723\n",
            "[68]\tTest-rmse:5.88703\n",
            "[69]\tTest-rmse:5.85326\n",
            "[70]\tTest-rmse:5.82533\n",
            "[71]\tTest-rmse:5.80111\n",
            "[72]\tTest-rmse:5.77886\n",
            "[73]\tTest-rmse:5.74806\n",
            "[74]\tTest-rmse:5.72965\n",
            "[75]\tTest-rmse:5.70468\n",
            "[76]\tTest-rmse:5.67768\n",
            "[77]\tTest-rmse:5.65046\n",
            "[78]\tTest-rmse:5.63546\n",
            "[79]\tTest-rmse:5.62009\n",
            "[80]\tTest-rmse:5.60791\n",
            "[81]\tTest-rmse:5.59482\n",
            "[82]\tTest-rmse:5.56975\n",
            "[83]\tTest-rmse:5.54922\n",
            "[84]\tTest-rmse:5.52173\n",
            "[85]\tTest-rmse:5.50679\n",
            "[86]\tTest-rmse:5.49238\n",
            "[87]\tTest-rmse:5.47453\n",
            "[88]\tTest-rmse:5.46514\n",
            "[89]\tTest-rmse:5.45634\n",
            "[90]\tTest-rmse:5.43446\n",
            "[91]\tTest-rmse:5.42537\n",
            "[92]\tTest-rmse:5.41632\n",
            "[93]\tTest-rmse:5.40118\n",
            "[94]\tTest-rmse:5.38503\n",
            "[95]\tTest-rmse:5.3712\n",
            "[96]\tTest-rmse:5.36636\n",
            "[97]\tTest-rmse:5.35527\n",
            "[98]\tTest-rmse:5.33178\n",
            "[99]\tTest-rmse:5.32524\n",
            "[100]\tTest-rmse:5.31567\n",
            "[101]\tTest-rmse:5.29997\n",
            "[102]\tTest-rmse:5.28076\n",
            "[103]\tTest-rmse:5.26911\n",
            "[104]\tTest-rmse:5.26132\n",
            "[105]\tTest-rmse:5.25481\n",
            "[106]\tTest-rmse:5.24467\n",
            "[107]\tTest-rmse:5.24122\n",
            "[108]\tTest-rmse:5.23482\n",
            "[109]\tTest-rmse:5.22849\n",
            "[110]\tTest-rmse:5.22308\n",
            "[111]\tTest-rmse:5.21646\n",
            "[112]\tTest-rmse:5.21317\n",
            "[113]\tTest-rmse:5.20494\n",
            "[114]\tTest-rmse:5.20086\n",
            "[115]\tTest-rmse:5.19315\n",
            "[116]\tTest-rmse:5.18358\n",
            "[117]\tTest-rmse:5.18202\n",
            "[118]\tTest-rmse:5.17675\n",
            "[119]\tTest-rmse:5.16792\n",
            "[120]\tTest-rmse:5.1632\n"
          ],
          "name": "stdout"
        }
      ]
    },
    {
      "cell_type": "code",
      "metadata": {
        "id": "XY02MjG_rZT7",
        "colab_type": "code",
        "colab": {
          "base_uri": "https://localhost:8080/",
          "height": 1000
        },
        "outputId": "4f306797-50f4-4949-ad23-514ee5c5e4c8"
      },
      "source": [
        "num_boost_round = model.best_iteration + 1\n",
        "best_model = xgb.train(\n",
        "    params,\n",
        "    dtrain,\n",
        "    num_boost_round=num_boost_round,\n",
        "    evals=[(dtest, \"Test\")]\n",
        ")"
      ],
      "execution_count": null,
      "outputs": [
        {
          "output_type": "stream",
          "text": [
            "[0]\tTest-rmse:29.5289\n",
            "[1]\tTest-rmse:21.6874\n",
            "[2]\tTest-rmse:16.0593\n",
            "[3]\tTest-rmse:12.6821\n",
            "[4]\tTest-rmse:10.2387\n",
            "[5]\tTest-rmse:8.92668\n",
            "[6]\tTest-rmse:7.8958\n",
            "[7]\tTest-rmse:7.34264\n",
            "[8]\tTest-rmse:6.93591\n",
            "[9]\tTest-rmse:6.76546\n",
            "[10]\tTest-rmse:6.58583\n",
            "[11]\tTest-rmse:6.37038\n",
            "[12]\tTest-rmse:6.1819\n",
            "[13]\tTest-rmse:6.10385\n",
            "[14]\tTest-rmse:5.97696\n",
            "[15]\tTest-rmse:5.94099\n",
            "[16]\tTest-rmse:5.79695\n",
            "[17]\tTest-rmse:5.71168\n",
            "[18]\tTest-rmse:5.66401\n",
            "[19]\tTest-rmse:5.60184\n",
            "[20]\tTest-rmse:5.58089\n",
            "[21]\tTest-rmse:5.56555\n",
            "[22]\tTest-rmse:5.54337\n",
            "[23]\tTest-rmse:5.48034\n",
            "[24]\tTest-rmse:5.42787\n",
            "[25]\tTest-rmse:5.41902\n",
            "[26]\tTest-rmse:5.40959\n",
            "[27]\tTest-rmse:5.36347\n",
            "[28]\tTest-rmse:5.3537\n",
            "[29]\tTest-rmse:5.29976\n",
            "[30]\tTest-rmse:5.29397\n",
            "[31]\tTest-rmse:5.26375\n",
            "[32]\tTest-rmse:5.25514\n",
            "[33]\tTest-rmse:5.24759\n",
            "[34]\tTest-rmse:5.2327\n",
            "[35]\tTest-rmse:5.24105\n",
            "[36]\tTest-rmse:5.25384\n",
            "[37]\tTest-rmse:5.22125\n",
            "[38]\tTest-rmse:5.22278\n",
            "[39]\tTest-rmse:5.20964\n",
            "[40]\tTest-rmse:5.21299\n",
            "[41]\tTest-rmse:5.22348\n",
            "[42]\tTest-rmse:5.2099\n",
            "[43]\tTest-rmse:5.20002\n",
            "[44]\tTest-rmse:5.2085\n",
            "[45]\tTest-rmse:5.22021\n",
            "[46]\tTest-rmse:5.20576\n",
            "[47]\tTest-rmse:5.19745\n",
            "[48]\tTest-rmse:5.15348\n",
            "[49]\tTest-rmse:5.15628\n",
            "[50]\tTest-rmse:5.13957\n",
            "[51]\tTest-rmse:5.15491\n",
            "[52]\tTest-rmse:5.16068\n",
            "[53]\tTest-rmse:5.14667\n",
            "[54]\tTest-rmse:5.12833\n",
            "[55]\tTest-rmse:5.10027\n",
            "[56]\tTest-rmse:5.09676\n",
            "[57]\tTest-rmse:5.09391\n",
            "[58]\tTest-rmse:5.07892\n",
            "[59]\tTest-rmse:5.08185\n",
            "[60]\tTest-rmse:5.10803\n",
            "[61]\tTest-rmse:5.0946\n",
            "[62]\tTest-rmse:5.08111\n",
            "[63]\tTest-rmse:5.08061\n",
            "[64]\tTest-rmse:5.04906\n",
            "[65]\tTest-rmse:5.03907\n",
            "[66]\tTest-rmse:5.03624\n",
            "[67]\tTest-rmse:5.0354\n",
            "[68]\tTest-rmse:5.01921\n",
            "[69]\tTest-rmse:5.01282\n",
            "[70]\tTest-rmse:4.99563\n",
            "[71]\tTest-rmse:4.98202\n",
            "[72]\tTest-rmse:4.95901\n",
            "[73]\tTest-rmse:4.95326\n",
            "[74]\tTest-rmse:4.95531\n",
            "[75]\tTest-rmse:4.96219\n",
            "[76]\tTest-rmse:4.94224\n",
            "[77]\tTest-rmse:4.93869\n",
            "[78]\tTest-rmse:4.91521\n",
            "[79]\tTest-rmse:4.91172\n",
            "[80]\tTest-rmse:4.90506\n",
            "[81]\tTest-rmse:4.89179\n",
            "[82]\tTest-rmse:4.89995\n",
            "[83]\tTest-rmse:4.88775\n",
            "[84]\tTest-rmse:4.88354\n",
            "[85]\tTest-rmse:4.87911\n",
            "[86]\tTest-rmse:4.87696\n",
            "[87]\tTest-rmse:4.87214\n",
            "[88]\tTest-rmse:4.86717\n",
            "[89]\tTest-rmse:4.87424\n",
            "[90]\tTest-rmse:4.87043\n",
            "[91]\tTest-rmse:4.85211\n",
            "[92]\tTest-rmse:4.85314\n",
            "[93]\tTest-rmse:4.85169\n",
            "[94]\tTest-rmse:4.82923\n",
            "[95]\tTest-rmse:4.8304\n",
            "[96]\tTest-rmse:4.8312\n",
            "[97]\tTest-rmse:4.82491\n",
            "[98]\tTest-rmse:4.81521\n",
            "[99]\tTest-rmse:4.81226\n",
            "[100]\tTest-rmse:4.81359\n",
            "[101]\tTest-rmse:4.82381\n",
            "[102]\tTest-rmse:4.82613\n",
            "[103]\tTest-rmse:4.83653\n",
            "[104]\tTest-rmse:4.83328\n",
            "[105]\tTest-rmse:4.83473\n",
            "[106]\tTest-rmse:4.83276\n",
            "[107]\tTest-rmse:4.83667\n",
            "[108]\tTest-rmse:4.83056\n",
            "[109]\tTest-rmse:4.83383\n",
            "[110]\tTest-rmse:4.82768\n",
            "[111]\tTest-rmse:4.82605\n",
            "[112]\tTest-rmse:4.82818\n",
            "[113]\tTest-rmse:4.82627\n",
            "[114]\tTest-rmse:4.82049\n",
            "[115]\tTest-rmse:4.81016\n",
            "[116]\tTest-rmse:4.81135\n",
            "[117]\tTest-rmse:4.80668\n",
            "[118]\tTest-rmse:4.81128\n",
            "[119]\tTest-rmse:4.81293\n",
            "[120]\tTest-rmse:4.81268\n"
          ],
          "name": "stdout"
        }
      ]
    },
    {
      "cell_type": "code",
      "metadata": {
        "id": "YwQJ482JrdGX",
        "colab_type": "code",
        "colab": {
          "base_uri": "https://localhost:8080/",
          "height": 34
        },
        "outputId": "c422e671-a046-4acf-9fe4-08c561ffb047"
      },
      "source": [
        "from sklearn.metrics import mean_squared_error\n",
        "np.sqrt(mean_squared_error(y_test, best_model.predict(dtest)))"
      ],
      "execution_count": null,
      "outputs": [
        {
          "output_type": "execute_result",
          "data": {
            "text/plain": [
              "4.81267879069283"
            ]
          },
          "metadata": {
            "tags": []
          },
          "execution_count": 194
        }
      ]
    },
    {
      "cell_type": "code",
      "metadata": {
        "id": "jKvGoKRjl0ht",
        "colab_type": "code",
        "colab": {}
      },
      "source": [
        "test_data = pd.read_csv('https://raw.githubusercontent.com/dphi-official/Datasets/master/concrete_data/testing_set_label.csv')\n",
        "test_data_standarized = scaler.transform(test_data)\n",
        "testdf_standarized = pd.DataFrame(test_data_standarized, columns=features)\n",
        "dtest_data = xgb.DMatrix(testdf_standarized)\n",
        "\n",
        "\n"
      ],
      "execution_count": null,
      "outputs": []
    },
    {
      "cell_type": "code",
      "metadata": {
        "id": "DZFqy_zUpABz",
        "colab_type": "code",
        "colab": {
          "base_uri": "https://localhost:8080/",
          "height": 470
        },
        "outputId": "4e630a38-cb00-41f3-faa9-836f07188a2b"
      },
      "source": [
        "testdf_standarized"
      ],
      "execution_count": null,
      "outputs": [
        {
          "output_type": "execute_result",
          "data": {
            "text/html": [
              "<div>\n",
              "<style scoped>\n",
              "    .dataframe tbody tr th:only-of-type {\n",
              "        vertical-align: middle;\n",
              "    }\n",
              "\n",
              "    .dataframe tbody tr th {\n",
              "        vertical-align: top;\n",
              "    }\n",
              "\n",
              "    .dataframe thead th {\n",
              "        text-align: right;\n",
              "    }\n",
              "</style>\n",
              "<table border=\"1\" class=\"dataframe\">\n",
              "  <thead>\n",
              "    <tr style=\"text-align: right;\">\n",
              "      <th></th>\n",
              "      <th>Cement (component 1)(kg in a m^3 mixture)</th>\n",
              "      <th>Blast Furnace Slag (component 2)(kg in a m^3 mixture)</th>\n",
              "      <th>Fly Ash (component 3)(kg in a m^3 mixture)</th>\n",
              "      <th>Water  (component 4)(kg in a m^3 mixture)</th>\n",
              "      <th>Superplasticizer (component 5)(kg in a m^3 mixture)</th>\n",
              "      <th>Coarse Aggregate  (component 6)(kg in a m^3 mixture)</th>\n",
              "      <th>Fine Aggregate (component 7)(kg in a m^3 mixture)</th>\n",
              "      <th>Age (day)</th>\n",
              "    </tr>\n",
              "  </thead>\n",
              "  <tbody>\n",
              "    <tr>\n",
              "      <th>0</th>\n",
              "      <td>-1.087359</td>\n",
              "      <td>1.248764</td>\n",
              "      <td>2.210940</td>\n",
              "      <td>0.155861</td>\n",
              "      <td>0.151927</td>\n",
              "      <td>-0.942789</td>\n",
              "      <td>-1.805036</td>\n",
              "      <td>-0.250650</td>\n",
              "    </tr>\n",
              "    <tr>\n",
              "      <th>1</th>\n",
              "      <td>-1.268479</td>\n",
              "      <td>0.703028</td>\n",
              "      <td>0.867880</td>\n",
              "      <td>0.523365</td>\n",
              "      <td>-0.000240</td>\n",
              "      <td>-1.015787</td>\n",
              "      <td>0.055398</td>\n",
              "      <td>-0.250650</td>\n",
              "    </tr>\n",
              "    <tr>\n",
              "      <th>2</th>\n",
              "      <td>-1.206801</td>\n",
              "      <td>-0.895198</td>\n",
              "      <td>1.399508</td>\n",
              "      <td>0.552002</td>\n",
              "      <td>0.506983</td>\n",
              "      <td>-1.213926</td>\n",
              "      <td>1.188454</td>\n",
              "      <td>-0.250650</td>\n",
              "    </tr>\n",
              "    <tr>\n",
              "      <th>3</th>\n",
              "      <td>-0.411831</td>\n",
              "      <td>-0.895198</td>\n",
              "      <td>-0.820271</td>\n",
              "      <td>0.537684</td>\n",
              "      <td>-1.031593</td>\n",
              "      <td>-0.030307</td>\n",
              "      <td>1.411965</td>\n",
              "      <td>5.681848</td>\n",
              "    </tr>\n",
              "    <tr>\n",
              "      <th>4</th>\n",
              "      <td>-1.068954</td>\n",
              "      <td>-0.411144</td>\n",
              "      <td>1.111154</td>\n",
              "      <td>-1.117042</td>\n",
              "      <td>0.799482</td>\n",
              "      <td>1.440093</td>\n",
              "      <td>0.264051</td>\n",
              "      <td>-0.497104</td>\n",
              "    </tr>\n",
              "    <tr>\n",
              "      <th>...</th>\n",
              "      <td>...</td>\n",
              "      <td>...</td>\n",
              "      <td>...</td>\n",
              "      <td>...</td>\n",
              "      <td>...</td>\n",
              "      <td>...</td>\n",
              "      <td>...</td>\n",
              "      <td>...</td>\n",
              "    </tr>\n",
              "    <tr>\n",
              "      <th>253</th>\n",
              "      <td>-0.585804</td>\n",
              "      <td>-0.268749</td>\n",
              "      <td>1.103848</td>\n",
              "      <td>-1.956098</td>\n",
              "      <td>0.982082</td>\n",
              "      <td>1.373612</td>\n",
              "      <td>0.219091</td>\n",
              "      <td>1.016828</td>\n",
              "    </tr>\n",
              "    <tr>\n",
              "      <th>254</th>\n",
              "      <td>1.438528</td>\n",
              "      <td>0.323535</td>\n",
              "      <td>-0.820271</td>\n",
              "      <td>-1.347567</td>\n",
              "      <td>1.758133</td>\n",
              "      <td>-1.541116</td>\n",
              "      <td>1.439096</td>\n",
              "      <td>-0.250650</td>\n",
              "    </tr>\n",
              "    <tr>\n",
              "      <th>255</th>\n",
              "      <td>0.598524</td>\n",
              "      <td>-0.895198</td>\n",
              "      <td>-0.820271</td>\n",
              "      <td>0.189270</td>\n",
              "      <td>-1.031593</td>\n",
              "      <td>1.288882</td>\n",
              "      <td>-0.276638</td>\n",
              "      <td>-0.620331</td>\n",
              "    </tr>\n",
              "    <tr>\n",
              "      <th>256</th>\n",
              "      <td>0.107053</td>\n",
              "      <td>-0.895198</td>\n",
              "      <td>-0.820271</td>\n",
              "      <td>0.489956</td>\n",
              "      <td>-1.031593</td>\n",
              "      <td>-0.744650</td>\n",
              "      <td>1.545038</td>\n",
              "      <td>0.840789</td>\n",
              "    </tr>\n",
              "    <tr>\n",
              "      <th>257</th>\n",
              "      <td>-0.641217</td>\n",
              "      <td>-0.895198</td>\n",
              "      <td>0.740259</td>\n",
              "      <td>-1.068359</td>\n",
              "      <td>0.721708</td>\n",
              "      <td>0.436363</td>\n",
              "      <td>1.654726</td>\n",
              "      <td>0.242258</td>\n",
              "    </tr>\n",
              "  </tbody>\n",
              "</table>\n",
              "<p>258 rows × 8 columns</p>\n",
              "</div>"
            ],
            "text/plain": [
              "     Cement (component 1)(kg in a m^3 mixture)  ...  Age (day)\n",
              "0                                    -1.087359  ...  -0.250650\n",
              "1                                    -1.268479  ...  -0.250650\n",
              "2                                    -1.206801  ...  -0.250650\n",
              "3                                    -0.411831  ...   5.681848\n",
              "4                                    -1.068954  ...  -0.497104\n",
              "..                                         ...  ...        ...\n",
              "253                                  -0.585804  ...   1.016828\n",
              "254                                   1.438528  ...  -0.250650\n",
              "255                                   0.598524  ...  -0.620331\n",
              "256                                   0.107053  ...   0.840789\n",
              "257                                  -0.641217  ...   0.242258\n",
              "\n",
              "[258 rows x 8 columns]"
            ]
          },
          "metadata": {
            "tags": []
          },
          "execution_count": 196
        }
      ]
    },
    {
      "cell_type": "code",
      "metadata": {
        "id": "IFZ_Kl_pn9hK",
        "colab_type": "code",
        "colab": {
          "base_uri": "https://localhost:8080/",
          "height": 901
        },
        "outputId": "99cf132e-e943-492a-a8f5-b9622b1107e1"
      },
      "source": [
        "target = xgb_model.predict(dtest_data)\n",
        "target"
      ],
      "execution_count": null,
      "outputs": [
        {
          "output_type": "execute_result",
          "data": {
            "text/plain": [
              "array([39.823833 , 23.561325 , 10.14674  , 27.17164  , 27.103706 ,\n",
              "       46.888794 , 24.585201 , 44.076283 , 43.65889  , 51.56172  ,\n",
              "       15.717148 , 71.56431  , 48.029778 , 19.109327 , 19.38458  ,\n",
              "       27.925735 , 17.216288 , 32.636074 , 42.404263 , 23.152882 ,\n",
              "       26.939924 , 31.779636 , 65.15148  , 29.864965 , 39.26243  ,\n",
              "       79.19025  , 52.38256  , 42.425182 , 41.189762 , 78.39323  ,\n",
              "       37.135048 , 42.75556  , 45.43551  , 32.119564 , 21.567677 ,\n",
              "       34.18053  , 38.604248 , 19.620277 , 18.080076 , 39.2841   ,\n",
              "       71.00931  , 46.99289  , 15.751355 , 23.00631  , 28.994389 ,\n",
              "       32.996975 , 65.52544  , 40.788994 , 33.26407  , 33.45859  ,\n",
              "       58.623516 , 30.169615 , 36.085423 , 50.66601  , 15.6093645,\n",
              "       23.921543 , 43.611057 , 38.7936   , 28.644838 ,  9.586666 ,\n",
              "       35.931725 , 26.7677   , 37.856003 , 25.933449 , 55.045784 ,\n",
              "       32.429825 , 54.854027 , 52.34366  , 31.34973  ,  9.483981 ,\n",
              "        2.8300066, 17.985435 , 18.42203  , 43.299675 , 30.351736 ,\n",
              "       27.151155 , 37.335606 , 55.352074 , 22.66789  , 34.213688 ,\n",
              "       19.263079 , 35.986496 , 19.92786  , 54.651302 , 38.966976 ,\n",
              "       51.591698 , 52.168243 , 11.175143 , 35.265236 , 52.285816 ,\n",
              "       43.434555 , 48.150295 , 10.800227 , 15.449262 , 13.248462 ,\n",
              "       34.74954  , 46.846577 , 27.902576 , 31.395508 , 41.621998 ,\n",
              "       15.67637  , 38.5084   , 33.655735 , 13.22083  , 30.410166 ,\n",
              "       41.706097 , 30.975063 , 21.662132 , 35.705208 ,  7.545971 ,\n",
              "       40.02961  , 18.020763 , 61.996395 , 41.370884 , 48.206024 ,\n",
              "       22.065332 , 42.24619  , 31.36654  , 10.368572 , 20.769075 ,\n",
              "       81.17672  , 48.43616  , 36.989586 , 35.10913  , 39.317196 ,\n",
              "       33.734184 , 10.774243 , 33.358322 , 44.44195  , 38.9374   ,\n",
              "       33.26407  , 47.692005 , 38.696423 , 37.62302  , 65.870705 ,\n",
              "       58.718197 , 40.972187 , 12.566431 , 48.376263 , 35.705208 ,\n",
              "       39.87394  , 34.387806 , 41.0258   , 26.434435 , 63.619545 ,\n",
              "       15.162202 , 23.361036 , 37.335606 , 32.96755  , 27.593513 ,\n",
              "       49.099983 , 64.20181  , 63.855843 , 24.291508 , 33.66096  ,\n",
              "       43.525677 , 17.987991 , 37.217197 , 45.8661   , 59.163593 ,\n",
              "       30.244736 , 43.980324 , 16.270887 , 41.24076  , 34.56489  ,\n",
              "       36.439953 , 56.624943 , 79.19025  , 32.1566   , 41.798286 ,\n",
              "       19.670486 , 44.22422  , 36.748547 , 30.974995 , 19.622358 ,\n",
              "       28.050562 , 20.555832 , 40.674194 , 31.721344 , 38.505383 ,\n",
              "       29.960787 , 12.64306  , 61.72837  , 36.865395 , 18.747911 ,\n",
              "       38.649063 , 12.758599 , 40.28997  , 36.085423 , 13.213769 ,\n",
              "       28.071348 , 54.71176  , 18.166714 , 10.059799 , 64.70177  ,\n",
              "        8.660287 , 56.02623  , 54.12268  , 53.41581  , 46.879005 ,\n",
              "       24.821234 , 29.263885 ,  8.686281 , 65.732506 , 24.590088 ,\n",
              "       44.596836 , 18.953106 , 12.482669 , 40.913692 , 34.280518 ,\n",
              "       32.045887 , 71.5743   , 27.637238 , 25.487204 , 41.105145 ,\n",
              "       33.17715  , 44.76069  , 50.514114 , 57.138485 , 28.055355 ,\n",
              "       47.669914 , 33.82422  , 19.060411 , 24.2326   , 70.19967  ,\n",
              "       12.435444 , 15.18533  , 27.893684 , 47.861603 , 50.14164  ,\n",
              "       32.823555 , 43.944836 ,  6.6757493, 23.143572 , 47.36477  ,\n",
              "       32.324844 , 38.873066 , 14.299268 , 51.317616 , 22.60269  ,\n",
              "       20.811953 , 36.32992  , 39.505123 ,  8.205515 , 58.942986 ,\n",
              "        4.660721 , 49.25983  , 61.303608 , 46.64704  , 53.171688 ,\n",
              "       49.144386 , 36.528534 , 65.85783  , 64.78573  , 58.718197 ,\n",
              "       21.475737 , 32.58303  , 46.85327  ], dtype=float32)"
            ]
          },
          "metadata": {
            "tags": []
          },
          "execution_count": 197
        }
      ]
    },
    {
      "cell_type": "code",
      "metadata": {
        "id": "UmRuvt_pogo6",
        "colab_type": "code",
        "colab": {}
      },
      "source": [
        "# To create Dataframe of predicted value with particular respective index\n",
        "res = pd.DataFrame(target) #preditcions are nothing but the final predictions of your model on input features of your new unseen test data\n",
        "res.index = testdf_standarized.index # its important for comparison. Here \"test_new\" is your new test dataset\n",
        "res.columns = [\"prediction\"]\n",
        "\n"
      ],
      "execution_count": null,
      "outputs": []
    },
    {
      "cell_type": "code",
      "metadata": {
        "id": "8ntOPGblqccT",
        "colab_type": "code",
        "colab": {
          "base_uri": "https://localhost:8080/",
          "height": 901
        },
        "outputId": "8cf1fa55-3443-47bd-fd88-41a7790c1f1d"
      },
      "source": [
        "target"
      ],
      "execution_count": null,
      "outputs": [
        {
          "output_type": "execute_result",
          "data": {
            "text/plain": [
              "array([39.823833 , 23.561325 , 10.14674  , 27.17164  , 27.103706 ,\n",
              "       46.888794 , 24.585201 , 44.076283 , 43.65889  , 51.56172  ,\n",
              "       15.717148 , 71.56431  , 48.029778 , 19.109327 , 19.38458  ,\n",
              "       27.925735 , 17.216288 , 32.636074 , 42.404263 , 23.152882 ,\n",
              "       26.939924 , 31.779636 , 65.15148  , 29.864965 , 39.26243  ,\n",
              "       79.19025  , 52.38256  , 42.425182 , 41.189762 , 78.39323  ,\n",
              "       37.135048 , 42.75556  , 45.43551  , 32.119564 , 21.567677 ,\n",
              "       34.18053  , 38.604248 , 19.620277 , 18.080076 , 39.2841   ,\n",
              "       71.00931  , 46.99289  , 15.751355 , 23.00631  , 28.994389 ,\n",
              "       32.996975 , 65.52544  , 40.788994 , 33.26407  , 33.45859  ,\n",
              "       58.623516 , 30.169615 , 36.085423 , 50.66601  , 15.6093645,\n",
              "       23.921543 , 43.611057 , 38.7936   , 28.644838 ,  9.586666 ,\n",
              "       35.931725 , 26.7677   , 37.856003 , 25.933449 , 55.045784 ,\n",
              "       32.429825 , 54.854027 , 52.34366  , 31.34973  ,  9.483981 ,\n",
              "        2.8300066, 17.985435 , 18.42203  , 43.299675 , 30.351736 ,\n",
              "       27.151155 , 37.335606 , 55.352074 , 22.66789  , 34.213688 ,\n",
              "       19.263079 , 35.986496 , 19.92786  , 54.651302 , 38.966976 ,\n",
              "       51.591698 , 52.168243 , 11.175143 , 35.265236 , 52.285816 ,\n",
              "       43.434555 , 48.150295 , 10.800227 , 15.449262 , 13.248462 ,\n",
              "       34.74954  , 46.846577 , 27.902576 , 31.395508 , 41.621998 ,\n",
              "       15.67637  , 38.5084   , 33.655735 , 13.22083  , 30.410166 ,\n",
              "       41.706097 , 30.975063 , 21.662132 , 35.705208 ,  7.545971 ,\n",
              "       40.02961  , 18.020763 , 61.996395 , 41.370884 , 48.206024 ,\n",
              "       22.065332 , 42.24619  , 31.36654  , 10.368572 , 20.769075 ,\n",
              "       81.17672  , 48.43616  , 36.989586 , 35.10913  , 39.317196 ,\n",
              "       33.734184 , 10.774243 , 33.358322 , 44.44195  , 38.9374   ,\n",
              "       33.26407  , 47.692005 , 38.696423 , 37.62302  , 65.870705 ,\n",
              "       58.718197 , 40.972187 , 12.566431 , 48.376263 , 35.705208 ,\n",
              "       39.87394  , 34.387806 , 41.0258   , 26.434435 , 63.619545 ,\n",
              "       15.162202 , 23.361036 , 37.335606 , 32.96755  , 27.593513 ,\n",
              "       49.099983 , 64.20181  , 63.855843 , 24.291508 , 33.66096  ,\n",
              "       43.525677 , 17.987991 , 37.217197 , 45.8661   , 59.163593 ,\n",
              "       30.244736 , 43.980324 , 16.270887 , 41.24076  , 34.56489  ,\n",
              "       36.439953 , 56.624943 , 79.19025  , 32.1566   , 41.798286 ,\n",
              "       19.670486 , 44.22422  , 36.748547 , 30.974995 , 19.622358 ,\n",
              "       28.050562 , 20.555832 , 40.674194 , 31.721344 , 38.505383 ,\n",
              "       29.960787 , 12.64306  , 61.72837  , 36.865395 , 18.747911 ,\n",
              "       38.649063 , 12.758599 , 40.28997  , 36.085423 , 13.213769 ,\n",
              "       28.071348 , 54.71176  , 18.166714 , 10.059799 , 64.70177  ,\n",
              "        8.660287 , 56.02623  , 54.12268  , 53.41581  , 46.879005 ,\n",
              "       24.821234 , 29.263885 ,  8.686281 , 65.732506 , 24.590088 ,\n",
              "       44.596836 , 18.953106 , 12.482669 , 40.913692 , 34.280518 ,\n",
              "       32.045887 , 71.5743   , 27.637238 , 25.487204 , 41.105145 ,\n",
              "       33.17715  , 44.76069  , 50.514114 , 57.138485 , 28.055355 ,\n",
              "       47.669914 , 33.82422  , 19.060411 , 24.2326   , 70.19967  ,\n",
              "       12.435444 , 15.18533  , 27.893684 , 47.861603 , 50.14164  ,\n",
              "       32.823555 , 43.944836 ,  6.6757493, 23.143572 , 47.36477  ,\n",
              "       32.324844 , 38.873066 , 14.299268 , 51.317616 , 22.60269  ,\n",
              "       20.811953 , 36.32992  , 39.505123 ,  8.205515 , 58.942986 ,\n",
              "        4.660721 , 49.25983  , 61.303608 , 46.64704  , 53.171688 ,\n",
              "       49.144386 , 36.528534 , 65.85783  , 64.78573  , 58.718197 ,\n",
              "       21.475737 , 32.58303  , 46.85327  ], dtype=float32)"
            ]
          },
          "metadata": {
            "tags": []
          },
          "execution_count": 199
        }
      ]
    },
    {
      "cell_type": "code",
      "metadata": {
        "id": "dvNTEk0yqbRp",
        "colab_type": "code",
        "colab": {
          "base_uri": "https://localhost:8080/",
          "height": 17
        },
        "outputId": "c25267a0-9f36-4f0e-ec23-182e9794366c"
      },
      "source": [
        "# To download the csv file locally\n",
        "from google.colab import files\n",
        "res.to_csv('prediction_results_DS4.csv')         \n",
        "files.download('prediction_results_DS4.csv')"
      ],
      "execution_count": null,
      "outputs": [
        {
          "output_type": "display_data",
          "data": {
            "application/javascript": [
              "\n",
              "    async function download(id, filename, size) {\n",
              "      if (!google.colab.kernel.accessAllowed) {\n",
              "        return;\n",
              "      }\n",
              "      const div = document.createElement('div');\n",
              "      const label = document.createElement('label');\n",
              "      label.textContent = `Downloading \"${filename}\": `;\n",
              "      div.appendChild(label);\n",
              "      const progress = document.createElement('progress');\n",
              "      progress.max = size;\n",
              "      div.appendChild(progress);\n",
              "      document.body.appendChild(div);\n",
              "\n",
              "      const buffers = [];\n",
              "      let downloaded = 0;\n",
              "\n",
              "      const channel = await google.colab.kernel.comms.open(id);\n",
              "      // Send a message to notify the kernel that we're ready.\n",
              "      channel.send({})\n",
              "\n",
              "      for await (const message of channel.messages) {\n",
              "        // Send a message to notify the kernel that we're ready.\n",
              "        channel.send({})\n",
              "        if (message.buffers) {\n",
              "          for (const buffer of message.buffers) {\n",
              "            buffers.push(buffer);\n",
              "            downloaded += buffer.byteLength;\n",
              "            progress.value = downloaded;\n",
              "          }\n",
              "        }\n",
              "      }\n",
              "      const blob = new Blob(buffers, {type: 'application/binary'});\n",
              "      const a = document.createElement('a');\n",
              "      a.href = window.URL.createObjectURL(blob);\n",
              "      a.download = filename;\n",
              "      div.appendChild(a);\n",
              "      a.click();\n",
              "      div.remove();\n",
              "    }\n",
              "  "
            ],
            "text/plain": [
              "<IPython.core.display.Javascript object>"
            ]
          },
          "metadata": {
            "tags": []
          }
        },
        {
          "output_type": "display_data",
          "data": {
            "application/javascript": [
              "download(\"download_ff859532-f370-4544-b27a-e80562b1b96d\", \"prediction_results_DS4.csv\", 3419)"
            ],
            "text/plain": [
              "<IPython.core.display.Javascript object>"
            ]
          },
          "metadata": {
            "tags": []
          }
        }
      ]
    },
    {
      "cell_type": "markdown",
      "metadata": {
        "id": "WKBjcVDZgp86",
        "colab_type": "text"
      },
      "source": [
        "XGBOOST: https://blog.cambridgespark.com/hyperparameter-tuning-in-xgboost-4ff9100a3b2f"
      ]
    },
    {
      "cell_type": "markdown",
      "metadata": {
        "id": "Rs0CjJ-tg4r3",
        "colab_type": "text"
      },
      "source": [
        "NN"
      ]
    },
    {
      "cell_type": "code",
      "metadata": {
        "id": "UsXTpJypjAvS",
        "colab_type": "code",
        "colab": {}
      },
      "source": [
        ""
      ],
      "execution_count": null,
      "outputs": []
    }
  ]
}