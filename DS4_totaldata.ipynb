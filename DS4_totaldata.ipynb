{
  "nbformat": 4,
  "nbformat_minor": 0,
  "metadata": {
    "colab": {
      "name": "DS4_totaldata.ipynb",
      "provenance": [],
      "collapsed_sections": [],
      "authorship_tag": "ABX9TyN2TID6r/qt0WjvDVM3YM6X",
      "include_colab_link": true
    },
    "kernelspec": {
      "name": "python3",
      "display_name": "Python 3"
    }
  },
  "cells": [
    {
      "cell_type": "markdown",
      "metadata": {
        "id": "view-in-github",
        "colab_type": "text"
      },
      "source": [
        "<a href=\"https://colab.research.google.com/github/diegulio/Dphi_Bootcamp/blob/master/DS4_totaldata.ipynb\" target=\"_parent\"><img src=\"https://colab.research.google.com/assets/colab-badge.svg\" alt=\"Open In Colab\"/></a>"
      ]
    },
    {
      "cell_type": "code",
      "metadata": {
        "id": "fdb_GGQ6SByC",
        "colab_type": "code",
        "colab": {}
      },
      "source": [
        "import pandas as pd\n",
        "import numpy as np\n",
        "import matplotlib.pyplot as plt\n",
        "import seaborn as sns"
      ],
      "execution_count": 67,
      "outputs": []
    },
    {
      "cell_type": "code",
      "metadata": {
        "id": "ngsfv5CDX6BD",
        "colab_type": "code",
        "colab": {}
      },
      "source": [
        "concrete_data =  pd.read_csv(\"https://raw.githubusercontent.com/dphi-official/Datasets/master/concrete_data/training_set_label.csv\" )"
      ],
      "execution_count": 68,
      "outputs": []
    },
    {
      "cell_type": "code",
      "metadata": {
        "id": "sj05JTDpX911",
        "colab_type": "code",
        "colab": {
          "base_uri": "https://localhost:8080/",
          "height": 255
        },
        "outputId": "dcd6ed8d-c5a7-4aad-c462-15a7039bf39a"
      },
      "source": [
        "concrete_data.head()"
      ],
      "execution_count": 69,
      "outputs": [
        {
          "output_type": "execute_result",
          "data": {
            "text/html": [
              "<div>\n",
              "<style scoped>\n",
              "    .dataframe tbody tr th:only-of-type {\n",
              "        vertical-align: middle;\n",
              "    }\n",
              "\n",
              "    .dataframe tbody tr th {\n",
              "        vertical-align: top;\n",
              "    }\n",
              "\n",
              "    .dataframe thead th {\n",
              "        text-align: right;\n",
              "    }\n",
              "</style>\n",
              "<table border=\"1\" class=\"dataframe\">\n",
              "  <thead>\n",
              "    <tr style=\"text-align: right;\">\n",
              "      <th></th>\n",
              "      <th>Cement (component 1)(kg in a m^3 mixture)</th>\n",
              "      <th>Blast Furnace Slag (component 2)(kg in a m^3 mixture)</th>\n",
              "      <th>Fly Ash (component 3)(kg in a m^3 mixture)</th>\n",
              "      <th>Water  (component 4)(kg in a m^3 mixture)</th>\n",
              "      <th>Superplasticizer (component 5)(kg in a m^3 mixture)</th>\n",
              "      <th>Coarse Aggregate  (component 6)(kg in a m^3 mixture)</th>\n",
              "      <th>Fine Aggregate (component 7)(kg in a m^3 mixture)</th>\n",
              "      <th>Age (day)</th>\n",
              "      <th>Concrete compressive strength(MPa, megapascals)</th>\n",
              "    </tr>\n",
              "  </thead>\n",
              "  <tbody>\n",
              "    <tr>\n",
              "      <th>0</th>\n",
              "      <td>298.20</td>\n",
              "      <td>0.0</td>\n",
              "      <td>107.00</td>\n",
              "      <td>209.70</td>\n",
              "      <td>11.10</td>\n",
              "      <td>879.6</td>\n",
              "      <td>744.20</td>\n",
              "      <td>28</td>\n",
              "      <td>31.875165</td>\n",
              "    </tr>\n",
              "    <tr>\n",
              "      <th>1</th>\n",
              "      <td>397.00</td>\n",
              "      <td>0.0</td>\n",
              "      <td>0.00</td>\n",
              "      <td>186.00</td>\n",
              "      <td>0.00</td>\n",
              "      <td>1040.0</td>\n",
              "      <td>734.00</td>\n",
              "      <td>28</td>\n",
              "      <td>36.935229</td>\n",
              "    </tr>\n",
              "    <tr>\n",
              "      <th>2</th>\n",
              "      <td>251.37</td>\n",
              "      <td>0.0</td>\n",
              "      <td>118.27</td>\n",
              "      <td>188.45</td>\n",
              "      <td>6.35</td>\n",
              "      <td>1028.4</td>\n",
              "      <td>757.73</td>\n",
              "      <td>56</td>\n",
              "      <td>36.638755</td>\n",
              "    </tr>\n",
              "    <tr>\n",
              "      <th>3</th>\n",
              "      <td>304.00</td>\n",
              "      <td>140.0</td>\n",
              "      <td>0.00</td>\n",
              "      <td>214.00</td>\n",
              "      <td>6.00</td>\n",
              "      <td>895.0</td>\n",
              "      <td>722.00</td>\n",
              "      <td>28</td>\n",
              "      <td>33.418902</td>\n",
              "    </tr>\n",
              "    <tr>\n",
              "      <th>4</th>\n",
              "      <td>297.00</td>\n",
              "      <td>0.0</td>\n",
              "      <td>0.00</td>\n",
              "      <td>186.00</td>\n",
              "      <td>0.00</td>\n",
              "      <td>1040.0</td>\n",
              "      <td>734.00</td>\n",
              "      <td>7</td>\n",
              "      <td>30.957472</td>\n",
              "    </tr>\n",
              "  </tbody>\n",
              "</table>\n",
              "</div>"
            ],
            "text/plain": [
              "   Cement (component 1)(kg in a m^3 mixture)  ...  Concrete compressive strength(MPa, megapascals) \n",
              "0                                     298.20  ...                                         31.875165\n",
              "1                                     397.00  ...                                         36.935229\n",
              "2                                     251.37  ...                                         36.638755\n",
              "3                                     304.00  ...                                         33.418902\n",
              "4                                     297.00  ...                                         30.957472\n",
              "\n",
              "[5 rows x 9 columns]"
            ]
          },
          "metadata": {
            "tags": []
          },
          "execution_count": 69
        }
      ]
    },
    {
      "cell_type": "code",
      "metadata": {
        "id": "do98TJcdYDL8",
        "colab_type": "code",
        "colab": {
          "base_uri": "https://localhost:8080/",
          "height": 289
        },
        "outputId": "53359c22-a1cc-4f5d-ce10-ef9e749e82ae"
      },
      "source": [
        "concrete_data.info()"
      ],
      "execution_count": 70,
      "outputs": [
        {
          "output_type": "stream",
          "text": [
            "<class 'pandas.core.frame.DataFrame'>\n",
            "RangeIndex: 772 entries, 0 to 771\n",
            "Data columns (total 9 columns):\n",
            " #   Column                                                 Non-Null Count  Dtype  \n",
            "---  ------                                                 --------------  -----  \n",
            " 0   Cement (component 1)(kg in a m^3 mixture)              772 non-null    float64\n",
            " 1   Blast Furnace Slag (component 2)(kg in a m^3 mixture)  772 non-null    float64\n",
            " 2   Fly Ash (component 3)(kg in a m^3 mixture)             772 non-null    float64\n",
            " 3   Water  (component 4)(kg in a m^3 mixture)              772 non-null    float64\n",
            " 4   Superplasticizer (component 5)(kg in a m^3 mixture)    772 non-null    float64\n",
            " 5   Coarse Aggregate  (component 6)(kg in a m^3 mixture)   772 non-null    float64\n",
            " 6   Fine Aggregate (component 7)(kg in a m^3 mixture)      772 non-null    float64\n",
            " 7   Age (day)                                              772 non-null    int64  \n",
            " 8   Concrete compressive strength(MPa, megapascals)        772 non-null    float64\n",
            "dtypes: float64(8), int64(1)\n",
            "memory usage: 54.4 KB\n"
          ],
          "name": "stdout"
        }
      ]
    },
    {
      "cell_type": "code",
      "metadata": {
        "id": "4ezV1a27YXG-",
        "colab_type": "code",
        "colab": {
          "base_uri": "https://localhost:8080/",
          "height": 348
        },
        "outputId": "66a2526d-4210-49e3-c9af-a1dd1d1fa4dc"
      },
      "source": [
        "concrete_data.describe()"
      ],
      "execution_count": 71,
      "outputs": [
        {
          "output_type": "execute_result",
          "data": {
            "text/html": [
              "<div>\n",
              "<style scoped>\n",
              "    .dataframe tbody tr th:only-of-type {\n",
              "        vertical-align: middle;\n",
              "    }\n",
              "\n",
              "    .dataframe tbody tr th {\n",
              "        vertical-align: top;\n",
              "    }\n",
              "\n",
              "    .dataframe thead th {\n",
              "        text-align: right;\n",
              "    }\n",
              "</style>\n",
              "<table border=\"1\" class=\"dataframe\">\n",
              "  <thead>\n",
              "    <tr style=\"text-align: right;\">\n",
              "      <th></th>\n",
              "      <th>Cement (component 1)(kg in a m^3 mixture)</th>\n",
              "      <th>Blast Furnace Slag (component 2)(kg in a m^3 mixture)</th>\n",
              "      <th>Fly Ash (component 3)(kg in a m^3 mixture)</th>\n",
              "      <th>Water  (component 4)(kg in a m^3 mixture)</th>\n",
              "      <th>Superplasticizer (component 5)(kg in a m^3 mixture)</th>\n",
              "      <th>Coarse Aggregate  (component 6)(kg in a m^3 mixture)</th>\n",
              "      <th>Fine Aggregate (component 7)(kg in a m^3 mixture)</th>\n",
              "      <th>Age (day)</th>\n",
              "      <th>Concrete compressive strength(MPa, megapascals)</th>\n",
              "    </tr>\n",
              "  </thead>\n",
              "  <tbody>\n",
              "    <tr>\n",
              "      <th>count</th>\n",
              "      <td>772.000000</td>\n",
              "      <td>772.000000</td>\n",
              "      <td>772.000000</td>\n",
              "      <td>772.000000</td>\n",
              "      <td>772.000000</td>\n",
              "      <td>772.000000</td>\n",
              "      <td>772.000000</td>\n",
              "      <td>772.000000</td>\n",
              "      <td>772.000000</td>\n",
              "    </tr>\n",
              "    <tr>\n",
              "      <th>mean</th>\n",
              "      <td>280.722565</td>\n",
              "      <td>76.496140</td>\n",
              "      <td>52.701347</td>\n",
              "      <td>182.361593</td>\n",
              "      <td>6.000848</td>\n",
              "      <td>971.558782</td>\n",
              "      <td>771.618355</td>\n",
              "      <td>44.993523</td>\n",
              "      <td>35.724196</td>\n",
              "    </tr>\n",
              "    <tr>\n",
              "      <th>std</th>\n",
              "      <td>104.711803</td>\n",
              "      <td>87.477423</td>\n",
              "      <td>63.596763</td>\n",
              "      <td>20.913641</td>\n",
              "      <td>5.844002</td>\n",
              "      <td>77.078828</td>\n",
              "      <td>79.785875</td>\n",
              "      <td>60.442735</td>\n",
              "      <td>16.797389</td>\n",
              "    </tr>\n",
              "    <tr>\n",
              "      <th>min</th>\n",
              "      <td>102.000000</td>\n",
              "      <td>0.000000</td>\n",
              "      <td>0.000000</td>\n",
              "      <td>121.750000</td>\n",
              "      <td>0.000000</td>\n",
              "      <td>801.000000</td>\n",
              "      <td>594.000000</td>\n",
              "      <td>1.000000</td>\n",
              "      <td>2.331808</td>\n",
              "    </tr>\n",
              "    <tr>\n",
              "      <th>25%</th>\n",
              "      <td>190.340000</td>\n",
              "      <td>0.000000</td>\n",
              "      <td>0.000000</td>\n",
              "      <td>166.677500</td>\n",
              "      <td>0.000000</td>\n",
              "      <td>932.000000</td>\n",
              "      <td>724.300000</td>\n",
              "      <td>12.250000</td>\n",
              "      <td>23.677591</td>\n",
              "    </tr>\n",
              "    <tr>\n",
              "      <th>50%</th>\n",
              "      <td>275.000000</td>\n",
              "      <td>24.000000</td>\n",
              "      <td>0.000000</td>\n",
              "      <td>185.700000</td>\n",
              "      <td>6.050000</td>\n",
              "      <td>968.000000</td>\n",
              "      <td>777.800000</td>\n",
              "      <td>28.000000</td>\n",
              "      <td>33.870853</td>\n",
              "    </tr>\n",
              "    <tr>\n",
              "      <th>75%</th>\n",
              "      <td>350.000000</td>\n",
              "      <td>144.775000</td>\n",
              "      <td>118.187500</td>\n",
              "      <td>193.000000</td>\n",
              "      <td>10.025000</td>\n",
              "      <td>1028.100000</td>\n",
              "      <td>821.000000</td>\n",
              "      <td>56.000000</td>\n",
              "      <td>46.232813</td>\n",
              "    </tr>\n",
              "    <tr>\n",
              "      <th>max</th>\n",
              "      <td>540.000000</td>\n",
              "      <td>359.400000</td>\n",
              "      <td>200.100000</td>\n",
              "      <td>237.000000</td>\n",
              "      <td>32.200000</td>\n",
              "      <td>1145.000000</td>\n",
              "      <td>992.600000</td>\n",
              "      <td>365.000000</td>\n",
              "      <td>82.599225</td>\n",
              "    </tr>\n",
              "  </tbody>\n",
              "</table>\n",
              "</div>"
            ],
            "text/plain": [
              "       Cement (component 1)(kg in a m^3 mixture)  ...  Concrete compressive strength(MPa, megapascals) \n",
              "count                                 772.000000  ...                                        772.000000\n",
              "mean                                  280.722565  ...                                         35.724196\n",
              "std                                   104.711803  ...                                         16.797389\n",
              "min                                   102.000000  ...                                          2.331808\n",
              "25%                                   190.340000  ...                                         23.677591\n",
              "50%                                   275.000000  ...                                         33.870853\n",
              "75%                                   350.000000  ...                                         46.232813\n",
              "max                                   540.000000  ...                                         82.599225\n",
              "\n",
              "[8 rows x 9 columns]"
            ]
          },
          "metadata": {
            "tags": []
          },
          "execution_count": 71
        }
      ]
    },
    {
      "cell_type": "code",
      "metadata": {
        "id": "oygM94LrcjoZ",
        "colab_type": "code",
        "colab": {
          "base_uri": "https://localhost:8080/",
          "height": 865
        },
        "outputId": "6d2d6f2e-6134-46c0-bda2-0a1a4eeb16aa"
      },
      "source": [
        "plt.figure(figsize = (15, 10))\n",
        "sns.heatmap(concrete_data.corr(), annot = True)\n",
        "plt.show()"
      ],
      "execution_count": 72,
      "outputs": [
        {
          "output_type": "display_data",
          "data": {
            "image/png": "[encoded data removed]",
            "text/plain": [
              "<Figure size 1080x720 with 2 Axes>"
            ]
          },
          "metadata": {
            "tags": [],
            "needs_background": "light"
          }
        }
      ]
    },
    {
      "cell_type": "code",
      "metadata": {
        "id": "F2XB1nmKoC8P",
        "colab_type": "code",
        "colab": {}
      },
      "source": [
        "features = concrete_data.columns.tolist()\n",
        "target_name = features.pop()"
      ],
      "execution_count": 73,
      "outputs": []
    },
    {
      "cell_type": "code",
      "metadata": {
        "id": "BOea_x57ojoa",
        "colab_type": "code",
        "colab": {}
      },
      "source": [
        "X = concrete_data[features]\n",
        "y = concrete_data[target_name]"
      ],
      "execution_count": 74,
      "outputs": []
    },
    {
      "cell_type": "markdown",
      "metadata": {
        "id": "7S3ZJMhqxXf7",
        "colab_type": "text"
      },
      "source": [
        "Estandarizando"
      ]
    },
    {
      "cell_type": "code",
      "metadata": {
        "id": "CiaRRZoixV0P",
        "colab_type": "code",
        "colab": {
          "base_uri": "https://localhost:8080/",
          "height": 470
        },
        "outputId": "49e64274-7c1a-4ebf-a3a4-4f2e5a94f31f"
      },
      "source": [
        "from sklearn.preprocessing import StandardScaler\n",
        "scaler = StandardScaler()\n",
        "scaler.fit(X)\n",
        "X_st = scaler.transform(X)\n",
        "X = pd.DataFrame(X_st, columns=features)\n",
        "X"
      ],
      "execution_count": 75,
      "outputs": [
        {
          "output_type": "execute_result",
          "data": {
            "text/html": [
              "<div>\n",
              "<style scoped>\n",
              "    .dataframe tbody tr th:only-of-type {\n",
              "        vertical-align: middle;\n",
              "    }\n",
              "\n",
              "    .dataframe tbody tr th {\n",
              "        vertical-align: top;\n",
              "    }\n",
              "\n",
              "    .dataframe thead th {\n",
              "        text-align: right;\n",
              "    }\n",
              "</style>\n",
              "<table border=\"1\" class=\"dataframe\">\n",
              "  <thead>\n",
              "    <tr style=\"text-align: right;\">\n",
              "      <th></th>\n",
              "      <th>Cement (component 1)(kg in a m^3 mixture)</th>\n",
              "      <th>Blast Furnace Slag (component 2)(kg in a m^3 mixture)</th>\n",
              "      <th>Fly Ash (component 3)(kg in a m^3 mixture)</th>\n",
              "      <th>Water  (component 4)(kg in a m^3 mixture)</th>\n",
              "      <th>Superplasticizer (component 5)(kg in a m^3 mixture)</th>\n",
              "      <th>Coarse Aggregate  (component 6)(kg in a m^3 mixture)</th>\n",
              "      <th>Fine Aggregate (component 7)(kg in a m^3 mixture)</th>\n",
              "      <th>Age (day)</th>\n",
              "    </tr>\n",
              "  </thead>\n",
              "  <tbody>\n",
              "    <tr>\n",
              "      <th>0</th>\n",
              "      <td>0.167018</td>\n",
              "      <td>-0.875034</td>\n",
              "      <td>0.854349</td>\n",
              "      <td>1.308052</td>\n",
              "      <td>0.873110</td>\n",
              "      <td>-1.193822</td>\n",
              "      <td>-0.343872</td>\n",
              "      <td>-0.281333</td>\n",
              "    </tr>\n",
              "    <tr>\n",
              "      <th>1</th>\n",
              "      <td>1.111172</td>\n",
              "      <td>-0.875034</td>\n",
              "      <td>-0.829217</td>\n",
              "      <td>0.174086</td>\n",
              "      <td>-1.027505</td>\n",
              "      <td>0.888514</td>\n",
              "      <td>-0.471797</td>\n",
              "      <td>-0.281333</td>\n",
              "    </tr>\n",
              "    <tr>\n",
              "      <th>2</th>\n",
              "      <td>-0.280499</td>\n",
              "      <td>-0.875034</td>\n",
              "      <td>1.031675</td>\n",
              "      <td>0.291310</td>\n",
              "      <td>0.059784</td>\n",
              "      <td>0.737921</td>\n",
              "      <td>-0.174183</td>\n",
              "      <td>0.182216</td>\n",
              "    </tr>\n",
              "    <tr>\n",
              "      <th>3</th>\n",
              "      <td>0.222444</td>\n",
              "      <td>0.726416</td>\n",
              "      <td>-0.829217</td>\n",
              "      <td>1.513793</td>\n",
              "      <td>-0.000145</td>\n",
              "      <td>-0.993897</td>\n",
              "      <td>-0.622297</td>\n",
              "      <td>-0.281333</td>\n",
              "    </tr>\n",
              "    <tr>\n",
              "      <th>4</th>\n",
              "      <td>0.155551</td>\n",
              "      <td>-0.875034</td>\n",
              "      <td>-0.829217</td>\n",
              "      <td>0.174086</td>\n",
              "      <td>-1.027505</td>\n",
              "      <td>0.888514</td>\n",
              "      <td>-0.471797</td>\n",
              "      <td>-0.628995</td>\n",
              "    </tr>\n",
              "    <tr>\n",
              "      <th>...</th>\n",
              "      <td>...</td>\n",
              "      <td>...</td>\n",
              "      <td>...</td>\n",
              "      <td>...</td>\n",
              "      <td>...</td>\n",
              "      <td>...</td>\n",
              "      <td>...</td>\n",
              "      <td>...</td>\n",
              "    </tr>\n",
              "    <tr>\n",
              "      <th>767</th>\n",
              "      <td>-0.269701</td>\n",
              "      <td>-0.875034</td>\n",
              "      <td>-0.829217</td>\n",
              "      <td>0.159732</td>\n",
              "      <td>-1.027505</td>\n",
              "      <td>1.818035</td>\n",
              "      <td>0.159049</td>\n",
              "      <td>-0.628995</td>\n",
              "    </tr>\n",
              "    <tr>\n",
              "      <th>768</th>\n",
              "      <td>-0.302192</td>\n",
              "      <td>-0.875034</td>\n",
              "      <td>0.724542</td>\n",
              "      <td>-1.160358</td>\n",
              "      <td>1.164195</td>\n",
              "      <td>0.210327</td>\n",
              "      <td>1.472288</td>\n",
              "      <td>0.182216</td>\n",
              "    </tr>\n",
              "    <tr>\n",
              "      <th>769</th>\n",
              "      <td>-0.245810</td>\n",
              "      <td>-0.875034</td>\n",
              "      <td>-0.829217</td>\n",
              "      <td>0.461166</td>\n",
              "      <td>-1.027505</td>\n",
              "      <td>-1.061404</td>\n",
              "      <td>2.174496</td>\n",
              "      <td>-0.695216</td>\n",
              "    </tr>\n",
              "    <tr>\n",
              "      <th>770</th>\n",
              "      <td>-0.860466</td>\n",
              "      <td>-0.875034</td>\n",
              "      <td>1.143860</td>\n",
              "      <td>-0.967536</td>\n",
              "      <td>0.302926</td>\n",
              "      <td>1.537621</td>\n",
              "      <td>0.406245</td>\n",
              "      <td>0.910649</td>\n",
              "    </tr>\n",
              "    <tr>\n",
              "      <th>771</th>\n",
              "      <td>-1.163207</td>\n",
              "      <td>1.264046</td>\n",
              "      <td>-0.829217</td>\n",
              "      <td>-0.304381</td>\n",
              "      <td>0.855987</td>\n",
              "      <td>0.239407</td>\n",
              "      <td>0.217995</td>\n",
              "      <td>-0.281333</td>\n",
              "    </tr>\n",
              "  </tbody>\n",
              "</table>\n",
              "<p>772 rows × 8 columns</p>\n",
              "</div>"
            ],
            "text/plain": [
              "     Cement (component 1)(kg in a m^3 mixture)  ...  Age (day)\n",
              "0                                     0.167018  ...  -0.281333\n",
              "1                                     1.111172  ...  -0.281333\n",
              "2                                    -0.280499  ...   0.182216\n",
              "3                                     0.222444  ...  -0.281333\n",
              "4                                     0.155551  ...  -0.628995\n",
              "..                                         ...  ...        ...\n",
              "767                                  -0.269701  ...  -0.628995\n",
              "768                                  -0.302192  ...   0.182216\n",
              "769                                  -0.245810  ...  -0.695216\n",
              "770                                  -0.860466  ...   0.910649\n",
              "771                                  -1.163207  ...  -0.281333\n",
              "\n",
              "[772 rows x 8 columns]"
            ]
          },
          "metadata": {
            "tags": []
          },
          "execution_count": 75
        }
      ]
    },
    {
      "cell_type": "markdown",
      "metadata": {
        "id": "0QlZji-3Wips",
        "colab_type": "text"
      },
      "source": [
        "XGBoost"
      ]
    },
    {
      "cell_type": "code",
      "metadata": {
        "id": "n4-fNGH-NZV6",
        "colab_type": "code",
        "colab": {}
      },
      "source": [
        "import xgboost as xgb"
      ],
      "execution_count": 76,
      "outputs": []
    },
    {
      "cell_type": "code",
      "metadata": {
        "id": "QwoCfacu_vpb",
        "colab_type": "code",
        "colab": {}
      },
      "source": [
        "params = {'colsample_bytree': 0.8,\n",
        " 'eta': 0.05,\n",
        " 'eval_metric': 'rmse',\n",
        " 'max_depth': 5,\n",
        " 'min_child_weight': 7,\n",
        " 'objective': 'reg:squarederror',\n",
        " 'subsample': 0.9}\n",
        " \n",
        "dtotal_data = xgb.DMatrix(X, label = y)"
      ],
      "execution_count": 77,
      "outputs": []
    },
    {
      "cell_type": "code",
      "metadata": {
        "id": "pMd-ESRdge8z",
        "colab_type": "code",
        "colab": {}
      },
      "source": [
        "num_boost_round = 999\n",
        "xgb_model = xgb.train(\n",
        "    params,\n",
        "    dtotal_data,\n",
        "    num_boost_round=num_boost_round\n",
        ")\n"
      ],
      "execution_count": 78,
      "outputs": []
    },
    {
      "cell_type": "code",
      "metadata": {
        "id": "YwQJ482JrdGX",
        "colab_type": "code",
        "colab": {
          "base_uri": "https://localhost:8080/",
          "height": 34
        },
        "outputId": "bd9d5071-cc64-4f6e-9d11-98823ceff5a1"
      },
      "source": [
        "from sklearn.metrics import mean_squared_error\n",
        "np.sqrt(mean_squared_error(y, best_model.predict(dtotal_data)))"
      ],
      "execution_count": 79,
      "outputs": [
        {
          "output_type": "execute_result",
          "data": {
            "text/plain": [
              "1.3536978644122233"
            ]
          },
          "metadata": {
            "tags": []
          },
          "execution_count": 79
        }
      ]
    },
    {
      "cell_type": "code",
      "metadata": {
        "id": "0EzUwIcvBGCB",
        "colab_type": "code",
        "colab": {}
      },
      "source": [
        ""
      ],
      "execution_count": 79,
      "outputs": []
    },
    {
      "cell_type": "code",
      "metadata": {
        "id": "jKvGoKRjl0ht",
        "colab_type": "code",
        "colab": {
          "base_uri": "https://localhost:8080/",
          "height": 470
        },
        "outputId": "4731cfe2-476b-4eae-aa19-df0b10cdc97c"
      },
      "source": [
        "test_data = pd.read_csv('https://raw.githubusercontent.com/dphi-official/Datasets/master/concrete_data/testing_set_label.csv')\n",
        "test_data_standarized = scaler.transform(test_data)\n",
        "testdf_standarized = pd.DataFrame(test_data_standarized, columns=features)\n",
        "dtest = xgb.DMatrix(testdf_standarized)\n",
        "testdf_standarized\n",
        "\n",
        "\n",
        "\n"
      ],
      "execution_count": 80,
      "outputs": [
        {
          "output_type": "execute_result",
          "data": {
            "text/html": [
              "<div>\n",
              "<style scoped>\n",
              "    .dataframe tbody tr th:only-of-type {\n",
              "        vertical-align: middle;\n",
              "    }\n",
              "\n",
              "    .dataframe tbody tr th {\n",
              "        vertical-align: top;\n",
              "    }\n",
              "\n",
              "    .dataframe thead th {\n",
              "        text-align: right;\n",
              "    }\n",
              "</style>\n",
              "<table border=\"1\" class=\"dataframe\">\n",
              "  <thead>\n",
              "    <tr style=\"text-align: right;\">\n",
              "      <th></th>\n",
              "      <th>Cement (component 1)(kg in a m^3 mixture)</th>\n",
              "      <th>Blast Furnace Slag (component 2)(kg in a m^3 mixture)</th>\n",
              "      <th>Fly Ash (component 3)(kg in a m^3 mixture)</th>\n",
              "      <th>Water  (component 4)(kg in a m^3 mixture)</th>\n",
              "      <th>Superplasticizer (component 5)(kg in a m^3 mixture)</th>\n",
              "      <th>Coarse Aggregate  (component 6)(kg in a m^3 mixture)</th>\n",
              "      <th>Fine Aggregate (component 7)(kg in a m^3 mixture)</th>\n",
              "      <th>Age (day)</th>\n",
              "    </tr>\n",
              "  </thead>\n",
              "  <tbody>\n",
              "    <tr>\n",
              "      <th>0</th>\n",
              "      <td>-1.086757</td>\n",
              "      <td>1.264046</td>\n",
              "      <td>2.238965</td>\n",
              "      <td>0.126239</td>\n",
              "      <td>0.171081</td>\n",
              "      <td>-0.954951</td>\n",
              "      <td>-1.700881</td>\n",
              "      <td>-0.281333</td>\n",
              "    </tr>\n",
              "    <tr>\n",
              "      <th>1</th>\n",
              "      <td>-1.263547</td>\n",
              "      <td>0.719553</td>\n",
              "      <td>0.879524</td>\n",
              "      <td>0.494658</td>\n",
              "      <td>0.016977</td>\n",
              "      <td>-1.027651</td>\n",
              "      <td>0.105120</td>\n",
              "      <td>-0.281333</td>\n",
              "    </tr>\n",
              "    <tr>\n",
              "      <th>2</th>\n",
              "      <td>-1.203343</td>\n",
              "      <td>-0.875034</td>\n",
              "      <td>1.417636</td>\n",
              "      <td>0.523366</td>\n",
              "      <td>0.530657</td>\n",
              "      <td>-1.224979</td>\n",
              "      <td>1.205025</td>\n",
              "      <td>-0.281333</td>\n",
              "    </tr>\n",
              "    <tr>\n",
              "      <th>3</th>\n",
              "      <td>-0.427378</td>\n",
              "      <td>-0.875034</td>\n",
              "      <td>-0.829217</td>\n",
              "      <td>0.509012</td>\n",
              "      <td>-1.027505</td>\n",
              "      <td>-0.046201</td>\n",
              "      <td>1.421995</td>\n",
              "      <td>5.297807</td>\n",
              "    </tr>\n",
              "    <tr>\n",
              "      <th>4</th>\n",
              "      <td>-1.068791</td>\n",
              "      <td>-0.392082</td>\n",
              "      <td>1.125765</td>\n",
              "      <td>-1.149832</td>\n",
              "      <td>0.826879</td>\n",
              "      <td>1.418185</td>\n",
              "      <td>0.307668</td>\n",
              "      <td>-0.513107</td>\n",
              "    </tr>\n",
              "    <tr>\n",
              "      <th>...</th>\n",
              "      <td>...</td>\n",
              "      <td>...</td>\n",
              "      <td>...</td>\n",
              "      <td>...</td>\n",
              "      <td>...</td>\n",
              "      <td>...</td>\n",
              "      <td>...</td>\n",
              "      <td>...</td>\n",
              "    </tr>\n",
              "    <tr>\n",
              "      <th>253</th>\n",
              "      <td>-0.597192</td>\n",
              "      <td>-0.250011</td>\n",
              "      <td>1.118370</td>\n",
              "      <td>-1.990977</td>\n",
              "      <td>1.011804</td>\n",
              "      <td>1.351976</td>\n",
              "      <td>0.264023</td>\n",
              "      <td>0.910649</td>\n",
              "    </tr>\n",
              "    <tr>\n",
              "      <th>254</th>\n",
              "      <td>1.378746</td>\n",
              "      <td>0.340924</td>\n",
              "      <td>-0.829217</td>\n",
              "      <td>-1.380931</td>\n",
              "      <td>1.797734</td>\n",
              "      <td>-1.550831</td>\n",
              "      <td>1.448333</td>\n",
              "      <td>-0.281333</td>\n",
              "    </tr>\n",
              "    <tr>\n",
              "      <th>255</th>\n",
              "      <td>0.558823</td>\n",
              "      <td>-0.875034</td>\n",
              "      <td>-0.829217</td>\n",
              "      <td>0.159732</td>\n",
              "      <td>-1.027505</td>\n",
              "      <td>1.267592</td>\n",
              "      <td>-0.217201</td>\n",
              "      <td>-0.628995</td>\n",
              "    </tr>\n",
              "    <tr>\n",
              "      <th>256</th>\n",
              "      <td>0.079101</td>\n",
              "      <td>-0.875034</td>\n",
              "      <td>-0.829217</td>\n",
              "      <td>0.461166</td>\n",
              "      <td>-1.027505</td>\n",
              "      <td>-0.757622</td>\n",
              "      <td>1.551175</td>\n",
              "      <td>0.745096</td>\n",
              "    </tr>\n",
              "    <tr>\n",
              "      <th>257</th>\n",
              "      <td>-0.651280</td>\n",
              "      <td>-0.875034</td>\n",
              "      <td>0.750346</td>\n",
              "      <td>-1.101028</td>\n",
              "      <td>0.748115</td>\n",
              "      <td>0.418560</td>\n",
              "      <td>1.657653</td>\n",
              "      <td>0.182216</td>\n",
              "    </tr>\n",
              "  </tbody>\n",
              "</table>\n",
              "<p>258 rows × 8 columns</p>\n",
              "</div>"
            ],
            "text/plain": [
              "     Cement (component 1)(kg in a m^3 mixture)  ...  Age (day)\n",
              "0                                    -1.086757  ...  -0.281333\n",
              "1                                    -1.263547  ...  -0.281333\n",
              "2                                    -1.203343  ...  -0.281333\n",
              "3                                    -0.427378  ...   5.297807\n",
              "4                                    -1.068791  ...  -0.513107\n",
              "..                                         ...  ...        ...\n",
              "253                                  -0.597192  ...   0.910649\n",
              "254                                   1.378746  ...  -0.281333\n",
              "255                                   0.558823  ...  -0.628995\n",
              "256                                   0.079101  ...   0.745096\n",
              "257                                  -0.651280  ...   0.182216\n",
              "\n",
              "[258 rows x 8 columns]"
            ]
          },
          "metadata": {
            "tags": []
          },
          "execution_count": 80
        }
      ]
    },
    {
      "cell_type": "code",
      "metadata": {
        "id": "IFZ_Kl_pn9hK",
        "colab_type": "code",
        "colab": {
          "base_uri": "https://localhost:8080/",
          "height": 901
        },
        "outputId": "8a4315c9-f86a-4fa3-8933-fe96cf580af5"
      },
      "source": [
        "target = xgb_model.predict(dtest)\n",
        "target"
      ],
      "execution_count": 81,
      "outputs": [
        {
          "output_type": "execute_result",
          "data": {
            "text/plain": [
              "array([32.90837  , 24.133926 , 11.039334 , 26.733257 , 23.09348  ,\n",
              "       50.264313 , 20.04474  , 46.347687 , 45.87858  , 47.648754 ,\n",
              "       20.39769  , 70.79049  , 48.34348  , 15.539961 , 19.910946 ,\n",
              "       28.898176 , 13.465535 , 29.724052 , 41.41042  , 25.789255 ,\n",
              "       25.169695 , 32.752613 , 61.19104  , 29.600607 , 38.279892 ,\n",
              "       79.77321  , 55.558613 , 41.03377  , 41.126175 , 75.10793  ,\n",
              "       39.10333  , 42.634125 , 42.29107  , 30.928968 , 21.377258 ,\n",
              "       37.95858  , 40.47205  , 18.794605 , 20.692543 , 37.805103 ,\n",
              "       70.54988  , 50.114082 , 18.579462 , 22.547138 , 31.22991  ,\n",
              "       32.743023 , 65.352295 , 41.331936 , 35.7478   , 33.498745 ,\n",
              "       60.922573 , 30.246616 , 35.06208  , 43.163788 , 15.478159 ,\n",
              "       24.523232 , 41.467323 , 37.645164 , 27.516417 ,  9.53219  ,\n",
              "       32.372887 , 23.720905 , 38.13306  , 27.285389 , 55.051006 ,\n",
              "       23.824818 , 45.94345  , 52.910892 , 28.545137 , 12.65854  ,\n",
              "        4.946012 , 18.07614  , 18.809574 , 40.9945   , 30.714842 ,\n",
              "       27.711845 , 37.139915 , 59.789894 , 22.398214 , 32.273697 ,\n",
              "       17.40385  , 35.68353  , 19.29186  , 57.90799  , 33.094597 ,\n",
              "       57.49877  , 53.051846 ,  7.720212 , 32.506012 , 53.435192 ,\n",
              "       43.663673 , 49.937775 , 10.412019 , 17.945398 , 11.675975 ,\n",
              "       35.54764  , 42.445633 , 27.671947 , 33.659653 , 40.263744 ,\n",
              "       14.98951  , 44.5957   , 33.614094 , 15.033673 , 29.180544 ,\n",
              "       45.300148 , 28.022429 , 21.17968  , 34.407963 ,  7.5351944,\n",
              "       42.91797  , 17.281782 , 61.94706  , 42.27855  , 52.01899  ,\n",
              "       24.669638 , 43.344658 , 22.071415 , 12.276937 , 23.727861 ,\n",
              "       79.13417  , 50.109734 , 36.624577 , 36.53422  , 39.90788  ,\n",
              "       32.62507  , 11.280567 , 30.899214 , 47.32176  , 43.192684 ,\n",
              "       35.569702 , 50.528496 , 38.777332 , 39.349094 , 63.58054  ,\n",
              "       60.32411  , 42.184227 , 14.707717 , 52.58912  , 34.407963 ,\n",
              "       41.56748  , 35.071613 , 40.316696 , 26.110023 , 59.464363 ,\n",
              "       18.22473  , 22.921171 , 37.08364  , 39.71957  , 26.512808 ,\n",
              "       48.335503 , 63.561787 , 59.937386 , 23.407814 , 34.30456  ,\n",
              "       42.741894 , 16.338337 , 38.13535  , 43.810215 , 56.65638  ,\n",
              "       32.421364 , 44.463127 , 18.477114 , 36.08143  , 31.581959 ,\n",
              "       34.72071  , 55.964577 , 79.77321  , 31.813862 , 40.82294  ,\n",
              "       19.754848 , 44.664845 , 36.497654 , 30.888943 , 18.535458 ,\n",
              "       29.038603 , 22.72316  , 41.935905 , 30.025875 , 35.997673 ,\n",
              "       24.53937  , 16.078003 , 60.202698 , 35.733128 , 18.684313 ,\n",
              "       40.44726  , 13.83738  , 40.30143  , 35.06208  , 13.992086 ,\n",
              "       30.656755 , 57.04328  , 15.804828 , 11.625898 , 61.4236   ,\n",
              "       10.429791 , 52.669266 , 54.500767 , 53.806362 , 42.967644 ,\n",
              "       23.465502 , 26.18671  ,  9.09926  , 65.93832  , 23.457985 ,\n",
              "       45.267147 , 16.341198 , 14.317665 , 40.44324  , 38.078465 ,\n",
              "       31.618391 , 64.65911  , 29.0317   , 27.966043 , 41.959534 ,\n",
              "       33.51357  , 45.065292 , 51.795547 , 55.862606 , 27.916365 ,\n",
              "       39.408997 , 29.89926  , 17.963957 , 22.22307  , 74.792915 ,\n",
              "       13.260182 , 13.309402 , 26.23479  , 46.63763  , 56.637005 ,\n",
              "       33.673668 , 45.168507 ,  6.1909614, 18.613323 , 43.807167 ,\n",
              "       26.852596 , 41.359913 , 16.043177 , 47.377216 , 23.280005 ,\n",
              "       21.089785 , 35.570663 , 38.261112 ,  8.314711 , 59.178276 ,\n",
              "        3.9090347, 52.119213 , 63.62272  , 41.46117  , 56.51544  ,\n",
              "       49.97693  , 39.47644  , 67.76346  , 66.87727  , 60.32411  ,\n",
              "       19.189394 , 28.880093 , 46.905685 ], dtype=float32)"
            ]
          },
          "metadata": {
            "tags": []
          },
          "execution_count": 81
        }
      ]
    },
    {
      "cell_type": "code",
      "metadata": {
        "id": "UmRuvt_pogo6",
        "colab_type": "code",
        "colab": {}
      },
      "source": [
        "# To create Dataframe of predicted value with particular respective index\n",
        "res = pd.DataFrame(target) #preditcions are nothing but the final predictions of your model on input features of your new unseen test data\n",
        "res.index = testdf_standarized.index # its important for comparison. Here \"test_new\" is your new test dataset\n",
        "res.columns = [\"prediction\"]\n",
        "\n"
      ],
      "execution_count": 82,
      "outputs": []
    },
    {
      "cell_type": "code",
      "metadata": {
        "id": "8ntOPGblqccT",
        "colab_type": "code",
        "colab": {
          "base_uri": "https://localhost:8080/",
          "height": 901
        },
        "outputId": "2b918d3c-778f-4ffa-f731-f7cd8240f41e"
      },
      "source": [
        "target"
      ],
      "execution_count": 83,
      "outputs": [
        {
          "output_type": "execute_result",
          "data": {
            "text/plain": [
              "array([32.90837  , 24.133926 , 11.039334 , 26.733257 , 23.09348  ,\n",
              "       50.264313 , 20.04474  , 46.347687 , 45.87858  , 47.648754 ,\n",
              "       20.39769  , 70.79049  , 48.34348  , 15.539961 , 19.910946 ,\n",
              "       28.898176 , 13.465535 , 29.724052 , 41.41042  , 25.789255 ,\n",
              "       25.169695 , 32.752613 , 61.19104  , 29.600607 , 38.279892 ,\n",
              "       79.77321  , 55.558613 , 41.03377  , 41.126175 , 75.10793  ,\n",
              "       39.10333  , 42.634125 , 42.29107  , 30.928968 , 21.377258 ,\n",
              "       37.95858  , 40.47205  , 18.794605 , 20.692543 , 37.805103 ,\n",
              "       70.54988  , 50.114082 , 18.579462 , 22.547138 , 31.22991  ,\n",
              "       32.743023 , 65.352295 , 41.331936 , 35.7478   , 33.498745 ,\n",
              "       60.922573 , 30.246616 , 35.06208  , 43.163788 , 15.478159 ,\n",
              "       24.523232 , 41.467323 , 37.645164 , 27.516417 ,  9.53219  ,\n",
              "       32.372887 , 23.720905 , 38.13306  , 27.285389 , 55.051006 ,\n",
              "       23.824818 , 45.94345  , 52.910892 , 28.545137 , 12.65854  ,\n",
              "        4.946012 , 18.07614  , 18.809574 , 40.9945   , 30.714842 ,\n",
              "       27.711845 , 37.139915 , 59.789894 , 22.398214 , 32.273697 ,\n",
              "       17.40385  , 35.68353  , 19.29186  , 57.90799  , 33.094597 ,\n",
              "       57.49877  , 53.051846 ,  7.720212 , 32.506012 , 53.435192 ,\n",
              "       43.663673 , 49.937775 , 10.412019 , 17.945398 , 11.675975 ,\n",
              "       35.54764  , 42.445633 , 27.671947 , 33.659653 , 40.263744 ,\n",
              "       14.98951  , 44.5957   , 33.614094 , 15.033673 , 29.180544 ,\n",
              "       45.300148 , 28.022429 , 21.17968  , 34.407963 ,  7.5351944,\n",
              "       42.91797  , 17.281782 , 61.94706  , 42.27855  , 52.01899  ,\n",
              "       24.669638 , 43.344658 , 22.071415 , 12.276937 , 23.727861 ,\n",
              "       79.13417  , 50.109734 , 36.624577 , 36.53422  , 39.90788  ,\n",
              "       32.62507  , 11.280567 , 30.899214 , 47.32176  , 43.192684 ,\n",
              "       35.569702 , 50.528496 , 38.777332 , 39.349094 , 63.58054  ,\n",
              "       60.32411  , 42.184227 , 14.707717 , 52.58912  , 34.407963 ,\n",
              "       41.56748  , 35.071613 , 40.316696 , 26.110023 , 59.464363 ,\n",
              "       18.22473  , 22.921171 , 37.08364  , 39.71957  , 26.512808 ,\n",
              "       48.335503 , 63.561787 , 59.937386 , 23.407814 , 34.30456  ,\n",
              "       42.741894 , 16.338337 , 38.13535  , 43.810215 , 56.65638  ,\n",
              "       32.421364 , 44.463127 , 18.477114 , 36.08143  , 31.581959 ,\n",
              "       34.72071  , 55.964577 , 79.77321  , 31.813862 , 40.82294  ,\n",
              "       19.754848 , 44.664845 , 36.497654 , 30.888943 , 18.535458 ,\n",
              "       29.038603 , 22.72316  , 41.935905 , 30.025875 , 35.997673 ,\n",
              "       24.53937  , 16.078003 , 60.202698 , 35.733128 , 18.684313 ,\n",
              "       40.44726  , 13.83738  , 40.30143  , 35.06208  , 13.992086 ,\n",
              "       30.656755 , 57.04328  , 15.804828 , 11.625898 , 61.4236   ,\n",
              "       10.429791 , 52.669266 , 54.500767 , 53.806362 , 42.967644 ,\n",
              "       23.465502 , 26.18671  ,  9.09926  , 65.93832  , 23.457985 ,\n",
              "       45.267147 , 16.341198 , 14.317665 , 40.44324  , 38.078465 ,\n",
              "       31.618391 , 64.65911  , 29.0317   , 27.966043 , 41.959534 ,\n",
              "       33.51357  , 45.065292 , 51.795547 , 55.862606 , 27.916365 ,\n",
              "       39.408997 , 29.89926  , 17.963957 , 22.22307  , 74.792915 ,\n",
              "       13.260182 , 13.309402 , 26.23479  , 46.63763  , 56.637005 ,\n",
              "       33.673668 , 45.168507 ,  6.1909614, 18.613323 , 43.807167 ,\n",
              "       26.852596 , 41.359913 , 16.043177 , 47.377216 , 23.280005 ,\n",
              "       21.089785 , 35.570663 , 38.261112 ,  8.314711 , 59.178276 ,\n",
              "        3.9090347, 52.119213 , 63.62272  , 41.46117  , 56.51544  ,\n",
              "       49.97693  , 39.47644  , 67.76346  , 66.87727  , 60.32411  ,\n",
              "       19.189394 , 28.880093 , 46.905685 ], dtype=float32)"
            ]
          },
          "metadata": {
            "tags": []
          },
          "execution_count": 83
        }
      ]
    },
    {
      "cell_type": "code",
      "metadata": {
        "id": "dvNTEk0yqbRp",
        "colab_type": "code",
        "colab": {
          "base_uri": "https://localhost:8080/",
          "height": 17
        },
        "outputId": "4bd86c94-1b11-4937-b340-de43e87dbf70"
      },
      "source": [
        "# To download the csv file locally\n",
        "from google.colab import files\n",
        "res.to_csv('prediction_results_DS4.csv')         \n",
        "files.download('prediction_results_DS4.csv')"
      ],
      "execution_count": 84,
      "outputs": [
        {
          "output_type": "display_data",
          "data": {
            "application/javascript": [
              "\n",
              "    async function download(id, filename, size) {\n",
              "      if (!google.colab.kernel.accessAllowed) {\n",
              "        return;\n",
              "      }\n",
              "      const div = document.createElement('div');\n",
              "      const label = document.createElement('label');\n",
              "      label.textContent = `Downloading \"${filename}\": `;\n",
              "      div.appendChild(label);\n",
              "      const progress = document.createElement('progress');\n",
              "      progress.max = size;\n",
              "      div.appendChild(progress);\n",
              "      document.body.appendChild(div);\n",
              "\n",
              "      const buffers = [];\n",
              "      let downloaded = 0;\n",
              "\n",
              "      const channel = await google.colab.kernel.comms.open(id);\n",
              "      // Send a message to notify the kernel that we're ready.\n",
              "      channel.send({})\n",
              "\n",
              "      for await (const message of channel.messages) {\n",
              "        // Send a message to notify the kernel that we're ready.\n",
              "        channel.send({})\n",
              "        if (message.buffers) {\n",
              "          for (const buffer of message.buffers) {\n",
              "            buffers.push(buffer);\n",
              "            downloaded += buffer.byteLength;\n",
              "            progress.value = downloaded;\n",
              "          }\n",
              "        }\n",
              "      }\n",
              "      const blob = new Blob(buffers, {type: 'application/binary'});\n",
              "      const a = document.createElement('a');\n",
              "      a.href = window.URL.createObjectURL(blob);\n",
              "      a.download = filename;\n",
              "      div.appendChild(a);\n",
              "      a.click();\n",
              "      div.remove();\n",
              "    }\n",
              "  "
            ],
            "text/plain": [
              "<IPython.core.display.Javascript object>"
            ]
          },
          "metadata": {
            "tags": []
          }
        },
        {
          "output_type": "display_data",
          "data": {
            "application/javascript": [
              "download(\"download_490069b6-f4a5-44fb-b665-755ed1bcd96e\", \"prediction_results_DS4.csv\", 3419)"
            ],
            "text/plain": [
              "<IPython.core.display.Javascript object>"
            ]
          },
          "metadata": {
            "tags": []
          }
        }
      ]
    },
    {
      "cell_type": "markdown",
      "metadata": {
        "id": "WKBjcVDZgp86",
        "colab_type": "text"
      },
      "source": [
        "XGBOOST: https://blog.cambridgespark.com/hyperparameter-tuning-in-xgboost-4ff9100a3b2f"
      ]
    },
    {
      "cell_type": "markdown",
      "metadata": {
        "id": "Rs0CjJ-tg4r3",
        "colab_type": "text"
      },
      "source": [
        "NN"
      ]
    },
    {
      "cell_type": "code",
      "metadata": {
        "id": "UsXTpJypjAvS",
        "colab_type": "code",
        "colab": {
          "base_uri": "https://localhost:8080/",
          "height": 136
        },
        "outputId": "cdcdc772-f538-4b1f-d0b6-f044309051f9"
      },
      "source": [
        "params"
      ],
      "execution_count": 85,
      "outputs": [
        {
          "output_type": "execute_result",
          "data": {
            "text/plain": [
              "{'colsample_bytree': 0.8,\n",
              " 'eta': 0.05,\n",
              " 'eval_metric': 'rmse',\n",
              " 'max_depth': 5,\n",
              " 'min_child_weight': 7,\n",
              " 'objective': 'reg:squarederror',\n",
              " 'subsample': 0.9}"
            ]
          },
          "metadata": {
            "tags": []
          },
          "execution_count": 85
        }
      ]
    },
    {
      "cell_type": "code",
      "metadata": {
        "id": "jEkqb1Gw_r1A",
        "colab_type": "code",
        "colab": {}
      },
      "source": [
        ""
      ],
      "execution_count": 85,
      "outputs": []
    }
  ]
}